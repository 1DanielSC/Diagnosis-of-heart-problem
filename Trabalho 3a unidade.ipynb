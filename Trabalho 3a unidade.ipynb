{
 "cells": [
  {
   "cell_type": "markdown",
   "metadata": {},
   "source": [
    "## Trabalho 3ª unidade - Daniel Sehn Colao\n",
    "## Tema: Previsão de Problemas Cardíacos"
   ]
  },
  {
   "cell_type": "code",
   "execution_count": 589,
   "metadata": {},
   "outputs": [],
   "source": [
    "import numpy as np\n",
    "import pandas as pd\n",
    "import matplotlib.pyplot as plt\n",
    "import seaborn as sns\n",
    "from sklearn.model_selection import train_test_split\n",
    "import tensorflow as tf"
   ]
  },
  {
   "cell_type": "markdown",
   "metadata": {},
   "source": [
    "## Coleta de dados"
   ]
  },
  {
   "cell_type": "code",
   "execution_count": 590,
   "metadata": {},
   "outputs": [
    {
     "data": {
      "text/html": [
       "<div>\n",
       "<style scoped>\n",
       "    .dataframe tbody tr th:only-of-type {\n",
       "        vertical-align: middle;\n",
       "    }\n",
       "\n",
       "    .dataframe tbody tr th {\n",
       "        vertical-align: top;\n",
       "    }\n",
       "\n",
       "    .dataframe thead th {\n",
       "        text-align: right;\n",
       "    }\n",
       "</style>\n",
       "<table border=\"1\" class=\"dataframe\">\n",
       "  <thead>\n",
       "    <tr style=\"text-align: right;\">\n",
       "      <th></th>\n",
       "      <th>HeartDisease</th>\n",
       "      <th>BMI</th>\n",
       "      <th>Smoking</th>\n",
       "      <th>AlcoholDrinking</th>\n",
       "      <th>Stroke</th>\n",
       "      <th>PhysicalHealth</th>\n",
       "      <th>MentalHealth</th>\n",
       "      <th>DiffWalking</th>\n",
       "      <th>Sex</th>\n",
       "      <th>AgeCategory</th>\n",
       "      <th>Race</th>\n",
       "      <th>Diabetic</th>\n",
       "      <th>PhysicalActivity</th>\n",
       "      <th>GenHealth</th>\n",
       "      <th>SleepTime</th>\n",
       "      <th>Asthma</th>\n",
       "      <th>KidneyDisease</th>\n",
       "      <th>SkinCancer</th>\n",
       "    </tr>\n",
       "  </thead>\n",
       "  <tbody>\n",
       "    <tr>\n",
       "      <th>0</th>\n",
       "      <td>No</td>\n",
       "      <td>16.60</td>\n",
       "      <td>Yes</td>\n",
       "      <td>No</td>\n",
       "      <td>No</td>\n",
       "      <td>3.0</td>\n",
       "      <td>30.0</td>\n",
       "      <td>No</td>\n",
       "      <td>Female</td>\n",
       "      <td>55-59</td>\n",
       "      <td>White</td>\n",
       "      <td>Yes</td>\n",
       "      <td>Yes</td>\n",
       "      <td>Very good</td>\n",
       "      <td>5.0</td>\n",
       "      <td>Yes</td>\n",
       "      <td>No</td>\n",
       "      <td>Yes</td>\n",
       "    </tr>\n",
       "    <tr>\n",
       "      <th>1</th>\n",
       "      <td>No</td>\n",
       "      <td>20.34</td>\n",
       "      <td>No</td>\n",
       "      <td>No</td>\n",
       "      <td>Yes</td>\n",
       "      <td>0.0</td>\n",
       "      <td>0.0</td>\n",
       "      <td>No</td>\n",
       "      <td>Female</td>\n",
       "      <td>80 or older</td>\n",
       "      <td>White</td>\n",
       "      <td>No</td>\n",
       "      <td>Yes</td>\n",
       "      <td>Very good</td>\n",
       "      <td>7.0</td>\n",
       "      <td>No</td>\n",
       "      <td>No</td>\n",
       "      <td>No</td>\n",
       "    </tr>\n",
       "    <tr>\n",
       "      <th>2</th>\n",
       "      <td>No</td>\n",
       "      <td>26.58</td>\n",
       "      <td>Yes</td>\n",
       "      <td>No</td>\n",
       "      <td>No</td>\n",
       "      <td>20.0</td>\n",
       "      <td>30.0</td>\n",
       "      <td>No</td>\n",
       "      <td>Male</td>\n",
       "      <td>65-69</td>\n",
       "      <td>White</td>\n",
       "      <td>Yes</td>\n",
       "      <td>Yes</td>\n",
       "      <td>Fair</td>\n",
       "      <td>8.0</td>\n",
       "      <td>Yes</td>\n",
       "      <td>No</td>\n",
       "      <td>No</td>\n",
       "    </tr>\n",
       "    <tr>\n",
       "      <th>3</th>\n",
       "      <td>No</td>\n",
       "      <td>24.21</td>\n",
       "      <td>No</td>\n",
       "      <td>No</td>\n",
       "      <td>No</td>\n",
       "      <td>0.0</td>\n",
       "      <td>0.0</td>\n",
       "      <td>No</td>\n",
       "      <td>Female</td>\n",
       "      <td>75-79</td>\n",
       "      <td>White</td>\n",
       "      <td>No</td>\n",
       "      <td>No</td>\n",
       "      <td>Good</td>\n",
       "      <td>6.0</td>\n",
       "      <td>No</td>\n",
       "      <td>No</td>\n",
       "      <td>Yes</td>\n",
       "    </tr>\n",
       "    <tr>\n",
       "      <th>4</th>\n",
       "      <td>No</td>\n",
       "      <td>23.71</td>\n",
       "      <td>No</td>\n",
       "      <td>No</td>\n",
       "      <td>No</td>\n",
       "      <td>28.0</td>\n",
       "      <td>0.0</td>\n",
       "      <td>Yes</td>\n",
       "      <td>Female</td>\n",
       "      <td>40-44</td>\n",
       "      <td>White</td>\n",
       "      <td>No</td>\n",
       "      <td>Yes</td>\n",
       "      <td>Very good</td>\n",
       "      <td>8.0</td>\n",
       "      <td>No</td>\n",
       "      <td>No</td>\n",
       "      <td>No</td>\n",
       "    </tr>\n",
       "  </tbody>\n",
       "</table>\n",
       "</div>"
      ],
      "text/plain": [
       "  HeartDisease    BMI Smoking AlcoholDrinking Stroke  PhysicalHealth  \\\n",
       "0           No  16.60     Yes              No     No             3.0   \n",
       "1           No  20.34      No              No    Yes             0.0   \n",
       "2           No  26.58     Yes              No     No            20.0   \n",
       "3           No  24.21      No              No     No             0.0   \n",
       "4           No  23.71      No              No     No            28.0   \n",
       "\n",
       "   MentalHealth DiffWalking     Sex  AgeCategory   Race Diabetic  \\\n",
       "0          30.0          No  Female        55-59  White      Yes   \n",
       "1           0.0          No  Female  80 or older  White       No   \n",
       "2          30.0          No    Male        65-69  White      Yes   \n",
       "3           0.0          No  Female        75-79  White       No   \n",
       "4           0.0         Yes  Female        40-44  White       No   \n",
       "\n",
       "  PhysicalActivity  GenHealth  SleepTime Asthma KidneyDisease SkinCancer  \n",
       "0              Yes  Very good        5.0    Yes            No        Yes  \n",
       "1              Yes  Very good        7.0     No            No         No  \n",
       "2              Yes       Fair        8.0    Yes            No         No  \n",
       "3               No       Good        6.0     No            No        Yes  \n",
       "4              Yes  Very good        8.0     No            No         No  "
      ]
     },
     "execution_count": 590,
     "metadata": {},
     "output_type": "execute_result"
    }
   ],
   "source": [
    "dfc = pd.read_csv('heart_2020_cleaned.csv')\n",
    "dfc.head()"
   ]
  },
  {
   "cell_type": "markdown",
   "metadata": {},
   "source": [
    "## Pré-processamento de dados"
   ]
  },
  {
   "cell_type": "code",
   "execution_count": 591,
   "metadata": {},
   "outputs": [
    {
     "name": "stdout",
     "output_type": "stream",
     "text": [
      "<class 'pandas.core.frame.DataFrame'>\n",
      "RangeIndex: 319795 entries, 0 to 319794\n",
      "Data columns (total 18 columns):\n",
      " #   Column            Non-Null Count   Dtype  \n",
      "---  ------            --------------   -----  \n",
      " 0   HeartDisease      319795 non-null  object \n",
      " 1   BMI               319795 non-null  float64\n",
      " 2   Smoking           319795 non-null  object \n",
      " 3   AlcoholDrinking   319795 non-null  object \n",
      " 4   Stroke            319795 non-null  object \n",
      " 5   PhysicalHealth    319795 non-null  float64\n",
      " 6   MentalHealth      319795 non-null  float64\n",
      " 7   DiffWalking       319795 non-null  object \n",
      " 8   Sex               319795 non-null  object \n",
      " 9   AgeCategory       319795 non-null  object \n",
      " 10  Race              319795 non-null  object \n",
      " 11  Diabetic          319795 non-null  object \n",
      " 12  PhysicalActivity  319795 non-null  object \n",
      " 13  GenHealth         319795 non-null  object \n",
      " 14  SleepTime         319795 non-null  float64\n",
      " 15  Asthma            319795 non-null  object \n",
      " 16  KidneyDisease     319795 non-null  object \n",
      " 17  SkinCancer        319795 non-null  object \n",
      "dtypes: float64(4), object(14)\n",
      "memory usage: 43.9+ MB\n",
      "None\n",
      "                 BMI  PhysicalHealth   MentalHealth      SleepTime\n",
      "count  319795.000000    319795.00000  319795.000000  319795.000000\n",
      "mean       28.325399         3.37171       3.898366       7.097075\n",
      "std         6.356100         7.95085       7.955235       1.436007\n",
      "min        12.020000         0.00000       0.000000       1.000000\n",
      "25%        24.030000         0.00000       0.000000       6.000000\n",
      "50%        27.340000         0.00000       0.000000       7.000000\n",
      "75%        31.420000         2.00000       3.000000       8.000000\n",
      "max        94.850000        30.00000      30.000000      24.000000\n"
     ]
    }
   ],
   "source": [
    "print(dfc.info())\n",
    "print(dfc.describe())"
   ]
  },
  {
   "cell_type": "markdown",
   "metadata": {},
   "source": [
    "## Pré-processamento - Data Cleaning"
   ]
  },
  {
   "cell_type": "markdown",
   "metadata": {},
   "source": [
    "### Remoção de amostras duplicadas"
   ]
  },
  {
   "cell_type": "code",
   "execution_count": 592,
   "metadata": {},
   "outputs": [
    {
     "name": "stdout",
     "output_type": "stream",
     "text": [
      "Number of duplicated records = 18078\n"
     ]
    }
   ],
   "source": [
    "print(f'Number of duplicated records = {dfc.duplicated().sum()}')"
   ]
  },
  {
   "cell_type": "code",
   "execution_count": 593,
   "metadata": {},
   "outputs": [],
   "source": [
    "dfc = dfc.drop_duplicates()"
   ]
  },
  {
   "cell_type": "code",
   "execution_count": 594,
   "metadata": {},
   "outputs": [
    {
     "name": "stdout",
     "output_type": "stream",
     "text": [
      "Number of duplicated records = 0\n"
     ]
    }
   ],
   "source": [
    "print(f'Number of duplicated records = {dfc.duplicated().sum()}')"
   ]
  },
  {
   "cell_type": "markdown",
   "metadata": {},
   "source": [
    "### Identificação de valores ausentes (missing values)"
   ]
  },
  {
   "cell_type": "code",
   "execution_count": 595,
   "metadata": {},
   "outputs": [
    {
     "data": {
      "text/plain": [
       "HeartDisease        0\n",
       "BMI                 0\n",
       "Smoking             0\n",
       "AlcoholDrinking     0\n",
       "Stroke              0\n",
       "PhysicalHealth      0\n",
       "MentalHealth        0\n",
       "DiffWalking         0\n",
       "Sex                 0\n",
       "AgeCategory         0\n",
       "Race                0\n",
       "Diabetic            0\n",
       "PhysicalActivity    0\n",
       "GenHealth           0\n",
       "SleepTime           0\n",
       "Asthma              0\n",
       "KidneyDisease       0\n",
       "SkinCancer          0\n",
       "dtype: int64"
      ]
     },
     "execution_count": 595,
     "metadata": {},
     "output_type": "execute_result"
    }
   ],
   "source": [
    "dfc.isna().sum()"
   ]
  },
  {
   "cell_type": "markdown",
   "metadata": {},
   "source": [
    "### Verificação e eliminação de outliers"
   ]
  },
  {
   "cell_type": "code",
   "execution_count": 596,
   "metadata": {
    "scrolled": false
   },
   "outputs": [
    {
     "data": {
      "image/png": "[encoded data removed]",
      "text/plain": [
       "<Figure size 864x576 with 1 Axes>"
      ]
     },
     "metadata": {
      "needs_background": "light"
     },
     "output_type": "display_data"
    }
   ],
   "source": [
    "plt.figure(figsize=(12,8))\n",
    "sns.boxenplot(x=dfc.BMI, palette='mako')\n",
    "plt.show()"
   ]
  },
  {
   "cell_type": "code",
   "execution_count": 597,
   "metadata": {},
   "outputs": [
    {
     "name": "stdout",
     "output_type": "stream",
     "text": [
      "Total de amostras:  301717\n",
      "Total de amostras após remoção de outliers:  295664\n"
     ]
    }
   ],
   "source": [
    "q_low = dfc[\"BMI\"].quantile(0.01)\n",
    "q_hi  = dfc[\"BMI\"].quantile(0.99)\n",
    "print('Total de amostras: ', len(dfc))\n",
    "\n",
    "dfc = dfc[(dfc[\"BMI\"] < q_hi) & (dfc[\"BMI\"] > q_low)]\n",
    "print('Total de amostras após remoção de outliers: ', len(dfc))"
   ]
  },
  {
   "cell_type": "markdown",
   "metadata": {},
   "source": [
    "## Pré-processamento: Eliminação do atributo Race\n",
    "\n",
    "Este atributo será eliminado devido sua irrelevância e por questões éticas."
   ]
  },
  {
   "cell_type": "code",
   "execution_count": 598,
   "metadata": {},
   "outputs": [],
   "source": [
    "dfc = dfc.drop('Race', axis=1)"
   ]
  },
  {
   "cell_type": "markdown",
   "metadata": {},
   "source": [
    "### Histogramas"
   ]
  },
  {
   "cell_type": "code",
   "execution_count": 599,
   "metadata": {},
   "outputs": [
    {
     "data": {
      "image/png": "[encoded data removed]",
      "text/plain": [
       "<Figure size 720x360 with 4 Axes>"
      ]
     },
     "metadata": {
      "needs_background": "light"
     },
     "output_type": "display_data"
    }
   ],
   "source": [
    "#criação de subplots 3x4 (3 linhas com 4 graficos cada)\n",
    "fig, ax = plt.subplots(2, 2, figsize=(10,5))\n",
    "\n",
    "ax[0,0].hist(dfc.SleepTime)\n",
    "ax[0,0].set_title('SleepTime')\n",
    "\n",
    "ax[0,1].hist(dfc.BMI)\n",
    "ax[0,1].set_title('BMI')\n",
    "\n",
    "ax[1,0].hist(dfc.PhysicalHealth)\n",
    "ax[1,0].set_title('PhysicalHealth')\n",
    "\n",
    "ax[1,1].hist(dfc.MentalHealth)\n",
    "ax[1,1].set_title('MentalHealth')\n",
    "\n",
    "#espaçamento entre os graficos\n",
    "fig.tight_layout(pad=1.0)"
   ]
  },
  {
   "cell_type": "code",
   "execution_count": 600,
   "metadata": {},
   "outputs": [
    {
     "data": {
      "text/plain": [
       "<seaborn.axisgrid.FacetGrid at 0x193afea0640>"
      ]
     },
     "execution_count": 600,
     "metadata": {},
     "output_type": "execute_result"
    },
    {
     "data": {
      "image/png": "[encoded data removed]",
      "text/plain": [
       "<Figure size 360x360 with 1 Axes>"
      ]
     },
     "metadata": {
      "needs_background": "light"
     },
     "output_type": "display_data"
    }
   ],
   "source": [
    "sns.catplot(data=dfc, x=\"Sex\", kind=\"count\")"
   ]
  },
  {
   "cell_type": "code",
   "execution_count": 601,
   "metadata": {},
   "outputs": [
    {
     "data": {
      "text/html": [
       "<div>\n",
       "<style scoped>\n",
       "    .dataframe tbody tr th:only-of-type {\n",
       "        vertical-align: middle;\n",
       "    }\n",
       "\n",
       "    .dataframe tbody tr th {\n",
       "        vertical-align: top;\n",
       "    }\n",
       "\n",
       "    .dataframe thead th {\n",
       "        text-align: right;\n",
       "    }\n",
       "</style>\n",
       "<table border=\"1\" class=\"dataframe\">\n",
       "  <thead>\n",
       "    <tr style=\"text-align: right;\">\n",
       "      <th></th>\n",
       "      <th>BMI</th>\n",
       "      <th>PhysicalHealth</th>\n",
       "      <th>MentalHealth</th>\n",
       "      <th>SleepTime</th>\n",
       "    </tr>\n",
       "  </thead>\n",
       "  <tbody>\n",
       "    <tr>\n",
       "      <th>count</th>\n",
       "      <td>15824.000000</td>\n",
       "      <td>15824.000000</td>\n",
       "      <td>15824.000000</td>\n",
       "      <td>15824.000000</td>\n",
       "    </tr>\n",
       "    <tr>\n",
       "      <th>mean</th>\n",
       "      <td>29.254157</td>\n",
       "      <td>6.832090</td>\n",
       "      <td>3.536969</td>\n",
       "      <td>7.176567</td>\n",
       "    </tr>\n",
       "    <tr>\n",
       "      <th>std</th>\n",
       "      <td>5.394423</td>\n",
       "      <td>11.052376</td>\n",
       "      <td>8.230010</td>\n",
       "      <td>1.678153</td>\n",
       "    </tr>\n",
       "    <tr>\n",
       "      <th>min</th>\n",
       "      <td>17.810000</td>\n",
       "      <td>0.000000</td>\n",
       "      <td>0.000000</td>\n",
       "      <td>1.000000</td>\n",
       "    </tr>\n",
       "    <tr>\n",
       "      <th>25%</th>\n",
       "      <td>25.400000</td>\n",
       "      <td>0.000000</td>\n",
       "      <td>0.000000</td>\n",
       "      <td>6.000000</td>\n",
       "    </tr>\n",
       "    <tr>\n",
       "      <th>50%</th>\n",
       "      <td>28.480000</td>\n",
       "      <td>0.000000</td>\n",
       "      <td>0.000000</td>\n",
       "      <td>7.000000</td>\n",
       "    </tr>\n",
       "    <tr>\n",
       "      <th>75%</th>\n",
       "      <td>32.280000</td>\n",
       "      <td>10.000000</td>\n",
       "      <td>1.000000</td>\n",
       "      <td>8.000000</td>\n",
       "    </tr>\n",
       "    <tr>\n",
       "      <th>max</th>\n",
       "      <td>48.810000</td>\n",
       "      <td>30.000000</td>\n",
       "      <td>30.000000</td>\n",
       "      <td>24.000000</td>\n",
       "    </tr>\n",
       "  </tbody>\n",
       "</table>\n",
       "</div>"
      ],
      "text/plain": [
       "                BMI  PhysicalHealth  MentalHealth     SleepTime\n",
       "count  15824.000000    15824.000000  15824.000000  15824.000000\n",
       "mean      29.254157        6.832090      3.536969      7.176567\n",
       "std        5.394423       11.052376      8.230010      1.678153\n",
       "min       17.810000        0.000000      0.000000      1.000000\n",
       "25%       25.400000        0.000000      0.000000      6.000000\n",
       "50%       28.480000        0.000000      0.000000      7.000000\n",
       "75%       32.280000       10.000000      1.000000      8.000000\n",
       "max       48.810000       30.000000     30.000000     24.000000"
      ]
     },
     "execution_count": 601,
     "metadata": {},
     "output_type": "execute_result"
    }
   ],
   "source": [
    "male_disease = dfc.loc[dfc['Sex'] == 'Male']\n",
    "male_disease = male_disease.loc[male_disease['HeartDisease'] == 'Yes']\n",
    "male_disease.describe()"
   ]
  },
  {
   "cell_type": "code",
   "execution_count": 602,
   "metadata": {},
   "outputs": [
    {
     "name": "stdout",
     "output_type": "stream",
     "text": [
      "<class 'pandas.core.frame.DataFrame'>\n",
      "Int64Index: 15824 entries, 10 to 319790\n",
      "Data columns (total 17 columns):\n",
      " #   Column            Non-Null Count  Dtype  \n",
      "---  ------            --------------  -----  \n",
      " 0   HeartDisease      15824 non-null  object \n",
      " 1   BMI               15824 non-null  float64\n",
      " 2   Smoking           15824 non-null  object \n",
      " 3   AlcoholDrinking   15824 non-null  object \n",
      " 4   Stroke            15824 non-null  object \n",
      " 5   PhysicalHealth    15824 non-null  float64\n",
      " 6   MentalHealth      15824 non-null  float64\n",
      " 7   DiffWalking       15824 non-null  object \n",
      " 8   Sex               15824 non-null  object \n",
      " 9   AgeCategory       15824 non-null  object \n",
      " 10  Diabetic          15824 non-null  object \n",
      " 11  PhysicalActivity  15824 non-null  object \n",
      " 12  GenHealth         15824 non-null  object \n",
      " 13  SleepTime         15824 non-null  float64\n",
      " 14  Asthma            15824 non-null  object \n",
      " 15  KidneyDisease     15824 non-null  object \n",
      " 16  SkinCancer        15824 non-null  object \n",
      "dtypes: float64(4), object(13)\n",
      "memory usage: 2.2+ MB\n"
     ]
    }
   ],
   "source": [
    "male_disease.info()"
   ]
  },
  {
   "cell_type": "code",
   "execution_count": 603,
   "metadata": {},
   "outputs": [
    {
     "name": "stderr",
     "output_type": "stream",
     "text": [
      "D:\\anaconda3\\lib\\site-packages\\seaborn\\_decorators.py:36: FutureWarning: Pass the following variable as a keyword arg: x. From version 0.12, the only valid positional argument will be `data`, and passing other arguments without an explicit keyword will result in an error or misinterpretation.\n",
      "  warnings.warn(\n"
     ]
    },
    {
     "data": {
      "image/png": "[encoded data removed]",
      "text/plain": [
       "<Figure size 1080x576 with 1 Axes>"
      ]
     },
     "metadata": {
      "needs_background": "light"
     },
     "output_type": "display_data"
    }
   ],
   "source": [
    "plt.figure(figsize=(15,8))\n",
    "sns.countplot(dfc['AgeCategory'])\n",
    "plt.show()"
   ]
  },
  {
   "cell_type": "markdown",
   "metadata": {},
   "source": [
    "### Verificação de desbalanceamento do dataset"
   ]
  },
  {
   "cell_type": "code",
   "execution_count": 604,
   "metadata": {},
   "outputs": [
    {
     "data": {
      "text/plain": [
       "<seaborn.axisgrid.FacetGrid at 0x193afe970d0>"
      ]
     },
     "execution_count": 604,
     "metadata": {},
     "output_type": "execute_result"
    },
    {
     "data": {
      "image/png": "[encoded data removed]",
      "text/plain": [
       "<Figure size 360x360 with 1 Axes>"
      ]
     },
     "metadata": {
      "needs_background": "light"
     },
     "output_type": "display_data"
    }
   ],
   "source": [
    "sns.catplot(data=dfc, x=\"HeartDisease\", kind=\"count\")"
   ]
  },
  {
   "cell_type": "code",
   "execution_count": 605,
   "metadata": {},
   "outputs": [
    {
     "name": "stdout",
     "output_type": "stream",
     "text": [
      "Negativos:  268993\n",
      "Positivos:  26671\n"
     ]
    }
   ],
   "source": [
    "print('Negativos: ', len(dfc.loc[dfc['HeartDisease'] == 'No']))\n",
    "print('Positivos: ', len(dfc.loc[dfc['HeartDisease'] == 'Yes']))"
   ]
  },
  {
   "cell_type": "markdown",
   "metadata": {},
   "source": [
    "## Divisão de dados"
   ]
  },
  {
   "cell_type": "code",
   "execution_count": 606,
   "metadata": {},
   "outputs": [],
   "source": [
    "train, test = train_test_split(dfc,\n",
    "                               test_size = 0.2,\n",
    "                               stratify = dfc['HeartDisease'],\n",
    "                               random_state = 42)"
   ]
  },
  {
   "cell_type": "code",
   "execution_count": 607,
   "metadata": {},
   "outputs": [
    {
     "name": "stdout",
     "output_type": "stream",
     "text": [
      "Random under-sampling:\n",
      "Yes    21337\n",
      "No     21337\n",
      "Name: HeartDisease, dtype: int64\n"
     ]
    },
    {
     "data": {
      "text/plain": [
       "<AxesSubplot:title={'center':'Count (target)'}>"
      ]
     },
     "execution_count": 607,
     "metadata": {},
     "output_type": "execute_result"
    },
    {
     "data": {
      "image/png": "[encoded data removed]",
      "text/plain": [
       "<Figure size 432x288 with 1 Axes>"
      ]
     },
     "metadata": {
      "needs_background": "light"
     },
     "output_type": "display_data"
    }
   ],
   "source": [
    "train_negative = train.loc[train['HeartDisease'] == 'No']\n",
    "train_positive = train.loc[train['HeartDisease'] == 'Yes']\n",
    "\n",
    "count_class_00, count_class_11 = train.HeartDisease.value_counts()\n",
    "\n",
    "df_class_00_under = train_negative.sample(count_class_11)\n",
    "df_train_underNEW = pd.concat([df_class_00_under, train_positive], axis=0)\n",
    "\n",
    "\n",
    "print('Random under-sampling:')\n",
    "print(df_train_underNEW.HeartDisease.value_counts())\n",
    "\n",
    "df_train_underNEW.HeartDisease.value_counts().plot(kind='bar', title='Count (target)')"
   ]
  },
  {
   "cell_type": "code",
   "execution_count": 608,
   "metadata": {},
   "outputs": [
    {
     "name": "stdout",
     "output_type": "stream",
     "text": [
      "42674\n",
      "59133\n"
     ]
    }
   ],
   "source": [
    "print(len(df_train_underNEW))\n",
    "print(len(test))"
   ]
  },
  {
   "cell_type": "code",
   "execution_count": 609,
   "metadata": {},
   "outputs": [
    {
     "name": "stdout",
     "output_type": "stream",
     "text": [
      "16\n"
     ]
    }
   ],
   "source": [
    "number_features = len(df_train_underNEW.columns) - 1\n",
    "print(number_features)\n",
    "\n",
    "X_train = df_train_underNEW.drop('HeartDisease', axis=1)\n",
    "y_train = df_train_underNEW['HeartDisease']\n",
    "\n",
    "X_test = test.drop('HeartDisease', axis=1)"
   ]
  },
  {
   "cell_type": "code",
   "execution_count": 610,
   "metadata": {},
   "outputs": [
    {
     "data": {
      "text/html": [
       "<div>\n",
       "<style scoped>\n",
       "    .dataframe tbody tr th:only-of-type {\n",
       "        vertical-align: middle;\n",
       "    }\n",
       "\n",
       "    .dataframe tbody tr th {\n",
       "        vertical-align: top;\n",
       "    }\n",
       "\n",
       "    .dataframe thead th {\n",
       "        text-align: right;\n",
       "    }\n",
       "</style>\n",
       "<table border=\"1\" class=\"dataframe\">\n",
       "  <thead>\n",
       "    <tr style=\"text-align: right;\">\n",
       "      <th></th>\n",
       "      <th>BMI</th>\n",
       "      <th>Smoking</th>\n",
       "      <th>AlcoholDrinking</th>\n",
       "      <th>Stroke</th>\n",
       "      <th>PhysicalHealth</th>\n",
       "      <th>MentalHealth</th>\n",
       "      <th>DiffWalking</th>\n",
       "      <th>Sex</th>\n",
       "      <th>AgeCategory</th>\n",
       "      <th>Diabetic</th>\n",
       "      <th>PhysicalActivity</th>\n",
       "      <th>GenHealth</th>\n",
       "      <th>SleepTime</th>\n",
       "      <th>Asthma</th>\n",
       "      <th>KidneyDisease</th>\n",
       "      <th>SkinCancer</th>\n",
       "    </tr>\n",
       "  </thead>\n",
       "  <tbody>\n",
       "    <tr>\n",
       "      <th>30953</th>\n",
       "      <td>29.05</td>\n",
       "      <td>No</td>\n",
       "      <td>No</td>\n",
       "      <td>No</td>\n",
       "      <td>0.0</td>\n",
       "      <td>0.0</td>\n",
       "      <td>No</td>\n",
       "      <td>Male</td>\n",
       "      <td>35-39</td>\n",
       "      <td>No</td>\n",
       "      <td>Yes</td>\n",
       "      <td>Very good</td>\n",
       "      <td>5.0</td>\n",
       "      <td>No</td>\n",
       "      <td>No</td>\n",
       "      <td>No</td>\n",
       "    </tr>\n",
       "    <tr>\n",
       "      <th>220306</th>\n",
       "      <td>35.44</td>\n",
       "      <td>No</td>\n",
       "      <td>No</td>\n",
       "      <td>Yes</td>\n",
       "      <td>15.0</td>\n",
       "      <td>4.0</td>\n",
       "      <td>No</td>\n",
       "      <td>Male</td>\n",
       "      <td>60-64</td>\n",
       "      <td>No</td>\n",
       "      <td>No</td>\n",
       "      <td>Fair</td>\n",
       "      <td>10.0</td>\n",
       "      <td>Yes</td>\n",
       "      <td>No</td>\n",
       "      <td>No</td>\n",
       "    </tr>\n",
       "    <tr>\n",
       "      <th>280769</th>\n",
       "      <td>33.09</td>\n",
       "      <td>Yes</td>\n",
       "      <td>No</td>\n",
       "      <td>No</td>\n",
       "      <td>0.0</td>\n",
       "      <td>0.0</td>\n",
       "      <td>No</td>\n",
       "      <td>Female</td>\n",
       "      <td>60-64</td>\n",
       "      <td>No</td>\n",
       "      <td>Yes</td>\n",
       "      <td>Very good</td>\n",
       "      <td>6.0</td>\n",
       "      <td>No</td>\n",
       "      <td>No</td>\n",
       "      <td>No</td>\n",
       "    </tr>\n",
       "    <tr>\n",
       "      <th>196132</th>\n",
       "      <td>29.29</td>\n",
       "      <td>Yes</td>\n",
       "      <td>No</td>\n",
       "      <td>No</td>\n",
       "      <td>0.0</td>\n",
       "      <td>0.0</td>\n",
       "      <td>No</td>\n",
       "      <td>Male</td>\n",
       "      <td>70-74</td>\n",
       "      <td>Yes</td>\n",
       "      <td>Yes</td>\n",
       "      <td>Excellent</td>\n",
       "      <td>8.0</td>\n",
       "      <td>No</td>\n",
       "      <td>No</td>\n",
       "      <td>No</td>\n",
       "    </tr>\n",
       "    <tr>\n",
       "      <th>114960</th>\n",
       "      <td>18.78</td>\n",
       "      <td>Yes</td>\n",
       "      <td>No</td>\n",
       "      <td>No</td>\n",
       "      <td>6.0</td>\n",
       "      <td>30.0</td>\n",
       "      <td>No</td>\n",
       "      <td>Female</td>\n",
       "      <td>60-64</td>\n",
       "      <td>No</td>\n",
       "      <td>Yes</td>\n",
       "      <td>Good</td>\n",
       "      <td>6.0</td>\n",
       "      <td>Yes</td>\n",
       "      <td>No</td>\n",
       "      <td>No</td>\n",
       "    </tr>\n",
       "    <tr>\n",
       "      <th>...</th>\n",
       "      <td>...</td>\n",
       "      <td>...</td>\n",
       "      <td>...</td>\n",
       "      <td>...</td>\n",
       "      <td>...</td>\n",
       "      <td>...</td>\n",
       "      <td>...</td>\n",
       "      <td>...</td>\n",
       "      <td>...</td>\n",
       "      <td>...</td>\n",
       "      <td>...</td>\n",
       "      <td>...</td>\n",
       "      <td>...</td>\n",
       "      <td>...</td>\n",
       "      <td>...</td>\n",
       "      <td>...</td>\n",
       "    </tr>\n",
       "    <tr>\n",
       "      <th>227480</th>\n",
       "      <td>33.45</td>\n",
       "      <td>Yes</td>\n",
       "      <td>No</td>\n",
       "      <td>No</td>\n",
       "      <td>0.0</td>\n",
       "      <td>0.0</td>\n",
       "      <td>No</td>\n",
       "      <td>Male</td>\n",
       "      <td>55-59</td>\n",
       "      <td>No</td>\n",
       "      <td>No</td>\n",
       "      <td>Good</td>\n",
       "      <td>8.0</td>\n",
       "      <td>No</td>\n",
       "      <td>No</td>\n",
       "      <td>No</td>\n",
       "    </tr>\n",
       "    <tr>\n",
       "      <th>185575</th>\n",
       "      <td>20.81</td>\n",
       "      <td>Yes</td>\n",
       "      <td>Yes</td>\n",
       "      <td>No</td>\n",
       "      <td>0.0</td>\n",
       "      <td>0.0</td>\n",
       "      <td>No</td>\n",
       "      <td>Male</td>\n",
       "      <td>60-64</td>\n",
       "      <td>No</td>\n",
       "      <td>Yes</td>\n",
       "      <td>Poor</td>\n",
       "      <td>8.0</td>\n",
       "      <td>No</td>\n",
       "      <td>No</td>\n",
       "      <td>No</td>\n",
       "    </tr>\n",
       "    <tr>\n",
       "      <th>291773</th>\n",
       "      <td>22.24</td>\n",
       "      <td>Yes</td>\n",
       "      <td>No</td>\n",
       "      <td>No</td>\n",
       "      <td>0.0</td>\n",
       "      <td>0.0</td>\n",
       "      <td>No</td>\n",
       "      <td>Male</td>\n",
       "      <td>80 or older</td>\n",
       "      <td>No</td>\n",
       "      <td>Yes</td>\n",
       "      <td>Good</td>\n",
       "      <td>6.0</td>\n",
       "      <td>No</td>\n",
       "      <td>No</td>\n",
       "      <td>No</td>\n",
       "    </tr>\n",
       "    <tr>\n",
       "      <th>108268</th>\n",
       "      <td>34.02</td>\n",
       "      <td>Yes</td>\n",
       "      <td>No</td>\n",
       "      <td>No</td>\n",
       "      <td>0.0</td>\n",
       "      <td>0.0</td>\n",
       "      <td>No</td>\n",
       "      <td>Male</td>\n",
       "      <td>60-64</td>\n",
       "      <td>No</td>\n",
       "      <td>Yes</td>\n",
       "      <td>Fair</td>\n",
       "      <td>7.0</td>\n",
       "      <td>No</td>\n",
       "      <td>No</td>\n",
       "      <td>No</td>\n",
       "    </tr>\n",
       "    <tr>\n",
       "      <th>236140</th>\n",
       "      <td>35.51</td>\n",
       "      <td>Yes</td>\n",
       "      <td>No</td>\n",
       "      <td>No</td>\n",
       "      <td>10.0</td>\n",
       "      <td>7.0</td>\n",
       "      <td>Yes</td>\n",
       "      <td>Female</td>\n",
       "      <td>60-64</td>\n",
       "      <td>No</td>\n",
       "      <td>No</td>\n",
       "      <td>Poor</td>\n",
       "      <td>8.0</td>\n",
       "      <td>No</td>\n",
       "      <td>No</td>\n",
       "      <td>No</td>\n",
       "    </tr>\n",
       "  </tbody>\n",
       "</table>\n",
       "<p>42674 rows × 16 columns</p>\n",
       "</div>"
      ],
      "text/plain": [
       "          BMI Smoking AlcoholDrinking Stroke  PhysicalHealth  MentalHealth  \\\n",
       "30953   29.05      No              No     No             0.0           0.0   \n",
       "220306  35.44      No              No    Yes            15.0           4.0   \n",
       "280769  33.09     Yes              No     No             0.0           0.0   \n",
       "196132  29.29     Yes              No     No             0.0           0.0   \n",
       "114960  18.78     Yes              No     No             6.0          30.0   \n",
       "...       ...     ...             ...    ...             ...           ...   \n",
       "227480  33.45     Yes              No     No             0.0           0.0   \n",
       "185575  20.81     Yes             Yes     No             0.0           0.0   \n",
       "291773  22.24     Yes              No     No             0.0           0.0   \n",
       "108268  34.02     Yes              No     No             0.0           0.0   \n",
       "236140  35.51     Yes              No     No            10.0           7.0   \n",
       "\n",
       "       DiffWalking     Sex  AgeCategory Diabetic PhysicalActivity  GenHealth  \\\n",
       "30953           No    Male        35-39       No              Yes  Very good   \n",
       "220306          No    Male        60-64       No               No       Fair   \n",
       "280769          No  Female        60-64       No              Yes  Very good   \n",
       "196132          No    Male        70-74      Yes              Yes  Excellent   \n",
       "114960          No  Female        60-64       No              Yes       Good   \n",
       "...            ...     ...          ...      ...              ...        ...   \n",
       "227480          No    Male        55-59       No               No       Good   \n",
       "185575          No    Male        60-64       No              Yes       Poor   \n",
       "291773          No    Male  80 or older       No              Yes       Good   \n",
       "108268          No    Male        60-64       No              Yes       Fair   \n",
       "236140         Yes  Female        60-64       No               No       Poor   \n",
       "\n",
       "        SleepTime Asthma KidneyDisease SkinCancer  \n",
       "30953         5.0     No            No         No  \n",
       "220306       10.0    Yes            No         No  \n",
       "280769        6.0     No            No         No  \n",
       "196132        8.0     No            No         No  \n",
       "114960        6.0    Yes            No         No  \n",
       "...           ...    ...           ...        ...  \n",
       "227480        8.0     No            No         No  \n",
       "185575        8.0     No            No         No  \n",
       "291773        6.0     No            No         No  \n",
       "108268        7.0     No            No         No  \n",
       "236140        8.0     No            No         No  \n",
       "\n",
       "[42674 rows x 16 columns]"
      ]
     },
     "execution_count": 610,
     "metadata": {},
     "output_type": "execute_result"
    }
   ],
   "source": [
    "X_train"
   ]
  },
  {
   "cell_type": "markdown",
   "metadata": {},
   "source": [
    "## Data encoding"
   ]
  },
  {
   "cell_type": "code",
   "execution_count": 611,
   "metadata": {},
   "outputs": [
    {
     "name": "stderr",
     "output_type": "stream",
     "text": [
      "D:\\anaconda3\\lib\\site-packages\\seaborn\\_decorators.py:36: FutureWarning: Pass the following variable as a keyword arg: x. From version 0.12, the only valid positional argument will be `data`, and passing other arguments without an explicit keyword will result in an error or misinterpretation.\n",
      "  warnings.warn(\n"
     ]
    },
    {
     "data": {
      "image/png": "[encoded data removed]",
      "text/plain": [
       "<Figure size 1080x576 with 1 Axes>"
      ]
     },
     "metadata": {
      "needs_background": "light"
     },
     "output_type": "display_data"
    }
   ],
   "source": [
    "plt.figure(figsize=(15,8))\n",
    "sns.countplot(X_train['GenHealth'])\n",
    "plt.show()"
   ]
  },
  {
   "cell_type": "markdown",
   "metadata": {},
   "source": [
    "### Data Encoding: Categorical variables to numerical variables"
   ]
  },
  {
   "cell_type": "code",
   "execution_count": 612,
   "metadata": {},
   "outputs": [],
   "source": [
    "from tensorflow import feature_column\n",
    "from sklearn.preprocessing import OneHotEncoder\n",
    "\n",
    "#ohe = OneHotEncoder(handle_unknown='ignore',sparse=False)\n",
    "\n",
    "#def encondeTrainData(df, col):\n",
    "    #data = pd.DataFrame(ohe.fit_transform(df[[col]]))\n",
    "    #data_list = np.array(data.values.tolist())\n",
    "    #df.drop(col, axis=1)\n",
    "    #df[col] = data_list\n",
    "    #return df\n",
    "\n",
    "\n",
    "#avoid_features = ['Diabetic', 'Sex', 'GenHealth', 'AgeCategory', \n",
    "                 # 'BMI', 'MentalHealth', 'PhysicalHealth',\n",
    "                # 'SleepTime']\n",
    "\n",
    "#for col in X_train.columns:\n",
    "    #if(col not in avoid_features):\n",
    "        #X_train = encondeTrainData(X_train, col)\n",
    "\n",
    "X_train['HeartDisease'] = y_train   \n",
    "cols_YesNo_values = ['HeartDisease', 'Smoking', 'AlcoholDrinking', 'Stroke', 'DiffWalking', 'PhysicalActivity',\n",
    "                       'Asthma', 'KidneyDisease', 'SkinCancer']\n",
    "\n",
    "answers_values = {'No':0, 'Yes':1}\n",
    "for i in range(0, len(cols_YesNo_values)):\n",
    "    X_train[cols_YesNo_values[i]] = X_train[cols_YesNo_values[i]].replace(answers_values)        \n",
    "        \n",
    "\n",
    "y_train = X_train['HeartDisease']\n",
    "X_train = X_train.drop('HeartDisease',axis=1)\n",
    "#y_train_encoded = pd.DataFrame(ohe.fit_transform(X_train[['target']]))\n",
    "#X_train = X_train.drop('target', axis=1)\n",
    "\n",
    "#Ordinal encoding - GenHealth\n",
    "genHealth = {'Poor':0, 'Fair':1, 'Good':2, 'Very good':3, 'Excellent':4}\n",
    "X_train['GenHealth'] = X_train['GenHealth'].replace(genHealth)\n",
    "\n",
    "#Ordinal encoding - Diabetic\n",
    "diabetic = {'No':0, 'No, borderline diabetes':1, 'Yes (during pregnancy)':2, 'Yes':3}\n",
    "X_train['Diabetic'] = X_train['Diabetic'].replace(diabetic)\n",
    "\n",
    "#Ordinal encoding - Sex\n",
    "sex = {'Female':0, 'Male':1}\n",
    "X_train['Sex'] = X_train['Sex'].replace(sex)\n",
    "\n",
    "#Ordinal encoding - AgeCategory\n",
    "ageCategory= {'18-24':0, '25-29':1, '30-34':2, '35-39':3, '40-44':4, '45-49':5, '50-54':6, '55-59':7, '60-64':8,\n",
    "             '65-69':9, '70-74':10, '75-79':11, '80 or older':12}\n",
    "X_train['AgeCategory'] = X_train['AgeCategory'].replace(ageCategory)"
   ]
  },
  {
   "cell_type": "code",
   "execution_count": 613,
   "metadata": {},
   "outputs": [
    {
     "data": {
      "text/html": [
       "<div>\n",
       "<style scoped>\n",
       "    .dataframe tbody tr th:only-of-type {\n",
       "        vertical-align: middle;\n",
       "    }\n",
       "\n",
       "    .dataframe tbody tr th {\n",
       "        vertical-align: top;\n",
       "    }\n",
       "\n",
       "    .dataframe thead th {\n",
       "        text-align: right;\n",
       "    }\n",
       "</style>\n",
       "<table border=\"1\" class=\"dataframe\">\n",
       "  <thead>\n",
       "    <tr style=\"text-align: right;\">\n",
       "      <th></th>\n",
       "      <th>BMI</th>\n",
       "      <th>Smoking</th>\n",
       "      <th>AlcoholDrinking</th>\n",
       "      <th>Stroke</th>\n",
       "      <th>PhysicalHealth</th>\n",
       "      <th>MentalHealth</th>\n",
       "      <th>DiffWalking</th>\n",
       "      <th>Sex</th>\n",
       "      <th>AgeCategory</th>\n",
       "      <th>Diabetic</th>\n",
       "      <th>PhysicalActivity</th>\n",
       "      <th>GenHealth</th>\n",
       "      <th>SleepTime</th>\n",
       "      <th>Asthma</th>\n",
       "      <th>KidneyDisease</th>\n",
       "      <th>SkinCancer</th>\n",
       "    </tr>\n",
       "  </thead>\n",
       "  <tbody>\n",
       "    <tr>\n",
       "      <th>30953</th>\n",
       "      <td>29.05</td>\n",
       "      <td>0</td>\n",
       "      <td>0</td>\n",
       "      <td>0</td>\n",
       "      <td>0.0</td>\n",
       "      <td>0.0</td>\n",
       "      <td>0</td>\n",
       "      <td>1</td>\n",
       "      <td>3</td>\n",
       "      <td>0</td>\n",
       "      <td>1</td>\n",
       "      <td>3</td>\n",
       "      <td>5.0</td>\n",
       "      <td>0</td>\n",
       "      <td>0</td>\n",
       "      <td>0</td>\n",
       "    </tr>\n",
       "    <tr>\n",
       "      <th>220306</th>\n",
       "      <td>35.44</td>\n",
       "      <td>0</td>\n",
       "      <td>0</td>\n",
       "      <td>1</td>\n",
       "      <td>15.0</td>\n",
       "      <td>4.0</td>\n",
       "      <td>0</td>\n",
       "      <td>1</td>\n",
       "      <td>8</td>\n",
       "      <td>0</td>\n",
       "      <td>0</td>\n",
       "      <td>1</td>\n",
       "      <td>10.0</td>\n",
       "      <td>1</td>\n",
       "      <td>0</td>\n",
       "      <td>0</td>\n",
       "    </tr>\n",
       "    <tr>\n",
       "      <th>280769</th>\n",
       "      <td>33.09</td>\n",
       "      <td>1</td>\n",
       "      <td>0</td>\n",
       "      <td>0</td>\n",
       "      <td>0.0</td>\n",
       "      <td>0.0</td>\n",
       "      <td>0</td>\n",
       "      <td>0</td>\n",
       "      <td>8</td>\n",
       "      <td>0</td>\n",
       "      <td>1</td>\n",
       "      <td>3</td>\n",
       "      <td>6.0</td>\n",
       "      <td>0</td>\n",
       "      <td>0</td>\n",
       "      <td>0</td>\n",
       "    </tr>\n",
       "    <tr>\n",
       "      <th>196132</th>\n",
       "      <td>29.29</td>\n",
       "      <td>1</td>\n",
       "      <td>0</td>\n",
       "      <td>0</td>\n",
       "      <td>0.0</td>\n",
       "      <td>0.0</td>\n",
       "      <td>0</td>\n",
       "      <td>1</td>\n",
       "      <td>10</td>\n",
       "      <td>3</td>\n",
       "      <td>1</td>\n",
       "      <td>4</td>\n",
       "      <td>8.0</td>\n",
       "      <td>0</td>\n",
       "      <td>0</td>\n",
       "      <td>0</td>\n",
       "    </tr>\n",
       "    <tr>\n",
       "      <th>114960</th>\n",
       "      <td>18.78</td>\n",
       "      <td>1</td>\n",
       "      <td>0</td>\n",
       "      <td>0</td>\n",
       "      <td>6.0</td>\n",
       "      <td>30.0</td>\n",
       "      <td>0</td>\n",
       "      <td>0</td>\n",
       "      <td>8</td>\n",
       "      <td>0</td>\n",
       "      <td>1</td>\n",
       "      <td>2</td>\n",
       "      <td>6.0</td>\n",
       "      <td>1</td>\n",
       "      <td>0</td>\n",
       "      <td>0</td>\n",
       "    </tr>\n",
       "    <tr>\n",
       "      <th>...</th>\n",
       "      <td>...</td>\n",
       "      <td>...</td>\n",
       "      <td>...</td>\n",
       "      <td>...</td>\n",
       "      <td>...</td>\n",
       "      <td>...</td>\n",
       "      <td>...</td>\n",
       "      <td>...</td>\n",
       "      <td>...</td>\n",
       "      <td>...</td>\n",
       "      <td>...</td>\n",
       "      <td>...</td>\n",
       "      <td>...</td>\n",
       "      <td>...</td>\n",
       "      <td>...</td>\n",
       "      <td>...</td>\n",
       "    </tr>\n",
       "    <tr>\n",
       "      <th>227480</th>\n",
       "      <td>33.45</td>\n",
       "      <td>1</td>\n",
       "      <td>0</td>\n",
       "      <td>0</td>\n",
       "      <td>0.0</td>\n",
       "      <td>0.0</td>\n",
       "      <td>0</td>\n",
       "      <td>1</td>\n",
       "      <td>7</td>\n",
       "      <td>0</td>\n",
       "      <td>0</td>\n",
       "      <td>2</td>\n",
       "      <td>8.0</td>\n",
       "      <td>0</td>\n",
       "      <td>0</td>\n",
       "      <td>0</td>\n",
       "    </tr>\n",
       "    <tr>\n",
       "      <th>185575</th>\n",
       "      <td>20.81</td>\n",
       "      <td>1</td>\n",
       "      <td>1</td>\n",
       "      <td>0</td>\n",
       "      <td>0.0</td>\n",
       "      <td>0.0</td>\n",
       "      <td>0</td>\n",
       "      <td>1</td>\n",
       "      <td>8</td>\n",
       "      <td>0</td>\n",
       "      <td>1</td>\n",
       "      <td>0</td>\n",
       "      <td>8.0</td>\n",
       "      <td>0</td>\n",
       "      <td>0</td>\n",
       "      <td>0</td>\n",
       "    </tr>\n",
       "    <tr>\n",
       "      <th>291773</th>\n",
       "      <td>22.24</td>\n",
       "      <td>1</td>\n",
       "      <td>0</td>\n",
       "      <td>0</td>\n",
       "      <td>0.0</td>\n",
       "      <td>0.0</td>\n",
       "      <td>0</td>\n",
       "      <td>1</td>\n",
       "      <td>12</td>\n",
       "      <td>0</td>\n",
       "      <td>1</td>\n",
       "      <td>2</td>\n",
       "      <td>6.0</td>\n",
       "      <td>0</td>\n",
       "      <td>0</td>\n",
       "      <td>0</td>\n",
       "    </tr>\n",
       "    <tr>\n",
       "      <th>108268</th>\n",
       "      <td>34.02</td>\n",
       "      <td>1</td>\n",
       "      <td>0</td>\n",
       "      <td>0</td>\n",
       "      <td>0.0</td>\n",
       "      <td>0.0</td>\n",
       "      <td>0</td>\n",
       "      <td>1</td>\n",
       "      <td>8</td>\n",
       "      <td>0</td>\n",
       "      <td>1</td>\n",
       "      <td>1</td>\n",
       "      <td>7.0</td>\n",
       "      <td>0</td>\n",
       "      <td>0</td>\n",
       "      <td>0</td>\n",
       "    </tr>\n",
       "    <tr>\n",
       "      <th>236140</th>\n",
       "      <td>35.51</td>\n",
       "      <td>1</td>\n",
       "      <td>0</td>\n",
       "      <td>0</td>\n",
       "      <td>10.0</td>\n",
       "      <td>7.0</td>\n",
       "      <td>1</td>\n",
       "      <td>0</td>\n",
       "      <td>8</td>\n",
       "      <td>0</td>\n",
       "      <td>0</td>\n",
       "      <td>0</td>\n",
       "      <td>8.0</td>\n",
       "      <td>0</td>\n",
       "      <td>0</td>\n",
       "      <td>0</td>\n",
       "    </tr>\n",
       "  </tbody>\n",
       "</table>\n",
       "<p>42674 rows × 16 columns</p>\n",
       "</div>"
      ],
      "text/plain": [
       "          BMI  Smoking  AlcoholDrinking  Stroke  PhysicalHealth  MentalHealth  \\\n",
       "30953   29.05        0                0       0             0.0           0.0   \n",
       "220306  35.44        0                0       1            15.0           4.0   \n",
       "280769  33.09        1                0       0             0.0           0.0   \n",
       "196132  29.29        1                0       0             0.0           0.0   \n",
       "114960  18.78        1                0       0             6.0          30.0   \n",
       "...       ...      ...              ...     ...             ...           ...   \n",
       "227480  33.45        1                0       0             0.0           0.0   \n",
       "185575  20.81        1                1       0             0.0           0.0   \n",
       "291773  22.24        1                0       0             0.0           0.0   \n",
       "108268  34.02        1                0       0             0.0           0.0   \n",
       "236140  35.51        1                0       0            10.0           7.0   \n",
       "\n",
       "        DiffWalking  Sex  AgeCategory  Diabetic  PhysicalActivity  GenHealth  \\\n",
       "30953             0    1            3         0                 1          3   \n",
       "220306            0    1            8         0                 0          1   \n",
       "280769            0    0            8         0                 1          3   \n",
       "196132            0    1           10         3                 1          4   \n",
       "114960            0    0            8         0                 1          2   \n",
       "...             ...  ...          ...       ...               ...        ...   \n",
       "227480            0    1            7         0                 0          2   \n",
       "185575            0    1            8         0                 1          0   \n",
       "291773            0    1           12         0                 1          2   \n",
       "108268            0    1            8         0                 1          1   \n",
       "236140            1    0            8         0                 0          0   \n",
       "\n",
       "        SleepTime  Asthma  KidneyDisease  SkinCancer  \n",
       "30953         5.0       0              0           0  \n",
       "220306       10.0       1              0           0  \n",
       "280769        6.0       0              0           0  \n",
       "196132        8.0       0              0           0  \n",
       "114960        6.0       1              0           0  \n",
       "...           ...     ...            ...         ...  \n",
       "227480        8.0       0              0           0  \n",
       "185575        8.0       0              0           0  \n",
       "291773        6.0       0              0           0  \n",
       "108268        7.0       0              0           0  \n",
       "236140        8.0       0              0           0  \n",
       "\n",
       "[42674 rows x 16 columns]"
      ]
     },
     "execution_count": 613,
     "metadata": {},
     "output_type": "execute_result"
    }
   ],
   "source": [
    "X_train"
   ]
  },
  {
   "cell_type": "code",
   "execution_count": 614,
   "metadata": {},
   "outputs": [],
   "source": [
    "from tensorflow import feature_column\n",
    "from sklearn.preprocessing import OneHotEncoder\n",
    "\n",
    "#ohe = OneHotEncoder(handle_unknown='ignore',sparse=False)\n",
    "\n",
    "#def encodeData(df, col):\n",
    "    #data = pd.DataFrame(ohe.fit_transform(df[[col]]))\n",
    "    #data_list = np.array(data.values.tolist())\n",
    "    #df.drop(col, axis=1)\n",
    "    #df[col] = data_list\n",
    "    #return df\n",
    "\n",
    "\n",
    "#for col in X_test.columns:\n",
    "    #if(col != 'GenHealth' and col != 'AgeCategory' and col != 'BMI' and col != 'MentalHealth' and col != 'PhysicalHealth'  and col != 'SleepTime'):\n",
    "        #X_test = encodeData(X_test, col)\n",
    "\n",
    "      \n",
    "numeric_list_test = X_test.select_dtypes(include=[np.number]).columns\n",
    "X_test[numeric_list_test] = X_test[numeric_list_test].astype(np.float32) \n",
    "\n",
    "\n",
    "\n",
    "X_test['HeartDisease'] = test['HeartDisease']   \n",
    "cols_YesNo_values = ['HeartDisease', 'Smoking', 'AlcoholDrinking', 'Stroke', 'DiffWalking', 'PhysicalActivity',\n",
    "                       'Asthma', 'KidneyDisease', 'SkinCancer']\n",
    "\n",
    "answers_values = {'No':0, 'Yes':1}\n",
    "for i in range(0, len(cols_YesNo_values)):\n",
    "    X_test[cols_YesNo_values[i]] = X_test[cols_YesNo_values[i]].replace(answers_values)        \n",
    "        \n",
    "\n",
    "y_test = X_test['HeartDisease']\n",
    "X_test = X_test.drop('HeartDisease',axis=1)\n",
    "#y_train_encoded = pd.DataFrame(ohe.fit_transform(X_train[['target']]))\n",
    "#X_train = X_train.drop('target', axis=1)\n",
    "\n",
    "#Ordinal encoding - GenHealth\n",
    "genHealth = {'Poor':0, 'Fair':1, 'Good':2, 'Very good':3, 'Excellent':4}\n",
    "X_test['GenHealth'] = X_test['GenHealth'].replace(genHealth)\n",
    "\n",
    "#Ordinal encoding - Diabetic\n",
    "diabetic = {'No':0, 'No, borderline diabetes':1, 'Yes (during pregnancy)':2, 'Yes':3}\n",
    "X_test['Diabetic'] = X_test['Diabetic'].replace(diabetic)\n",
    "\n",
    "#Ordinal encoding - Sex\n",
    "sex = {'Female':0, 'Male':1}\n",
    "X_test['Sex'] = X_test['Sex'].replace(sex)\n",
    "\n",
    "#Ordinal encoding - AgeCategory\n",
    "ageCategory= {'18-24':0, '25-29':1, '30-34':2, '35-39':3, '40-44':4, '45-49':5, '50-54':6, '55-59':7, '60-64':8,\n",
    "             '65-69':9, '70-74':10, '75-79':11, '80 or older':12}\n",
    "X_test['AgeCategory'] = X_test['AgeCategory'].replace(ageCategory)"
   ]
  },
  {
   "cell_type": "code",
   "execution_count": 615,
   "metadata": {},
   "outputs": [
    {
     "data": {
      "text/html": [
       "<div>\n",
       "<style scoped>\n",
       "    .dataframe tbody tr th:only-of-type {\n",
       "        vertical-align: middle;\n",
       "    }\n",
       "\n",
       "    .dataframe tbody tr th {\n",
       "        vertical-align: top;\n",
       "    }\n",
       "\n",
       "    .dataframe thead th {\n",
       "        text-align: right;\n",
       "    }\n",
       "</style>\n",
       "<table border=\"1\" class=\"dataframe\">\n",
       "  <thead>\n",
       "    <tr style=\"text-align: right;\">\n",
       "      <th></th>\n",
       "      <th>BMI</th>\n",
       "      <th>Smoking</th>\n",
       "      <th>AlcoholDrinking</th>\n",
       "      <th>Stroke</th>\n",
       "      <th>PhysicalHealth</th>\n",
       "      <th>MentalHealth</th>\n",
       "      <th>DiffWalking</th>\n",
       "      <th>Sex</th>\n",
       "      <th>AgeCategory</th>\n",
       "      <th>Diabetic</th>\n",
       "      <th>PhysicalActivity</th>\n",
       "      <th>GenHealth</th>\n",
       "      <th>SleepTime</th>\n",
       "      <th>Asthma</th>\n",
       "      <th>KidneyDisease</th>\n",
       "      <th>SkinCancer</th>\n",
       "    </tr>\n",
       "  </thead>\n",
       "  <tbody>\n",
       "    <tr>\n",
       "      <th>254114</th>\n",
       "      <td>28.250000</td>\n",
       "      <td>1</td>\n",
       "      <td>1</td>\n",
       "      <td>0</td>\n",
       "      <td>1.0</td>\n",
       "      <td>4.0</td>\n",
       "      <td>0</td>\n",
       "      <td>0</td>\n",
       "      <td>3</td>\n",
       "      <td>2</td>\n",
       "      <td>1</td>\n",
       "      <td>3</td>\n",
       "      <td>7.0</td>\n",
       "      <td>0</td>\n",
       "      <td>0</td>\n",
       "      <td>0</td>\n",
       "    </tr>\n",
       "    <tr>\n",
       "      <th>107678</th>\n",
       "      <td>35.340000</td>\n",
       "      <td>1</td>\n",
       "      <td>1</td>\n",
       "      <td>0</td>\n",
       "      <td>0.0</td>\n",
       "      <td>0.0</td>\n",
       "      <td>0</td>\n",
       "      <td>1</td>\n",
       "      <td>5</td>\n",
       "      <td>0</td>\n",
       "      <td>1</td>\n",
       "      <td>4</td>\n",
       "      <td>8.0</td>\n",
       "      <td>0</td>\n",
       "      <td>0</td>\n",
       "      <td>0</td>\n",
       "    </tr>\n",
       "    <tr>\n",
       "      <th>117802</th>\n",
       "      <td>27.799999</td>\n",
       "      <td>1</td>\n",
       "      <td>0</td>\n",
       "      <td>0</td>\n",
       "      <td>0.0</td>\n",
       "      <td>0.0</td>\n",
       "      <td>0</td>\n",
       "      <td>1</td>\n",
       "      <td>6</td>\n",
       "      <td>0</td>\n",
       "      <td>1</td>\n",
       "      <td>3</td>\n",
       "      <td>6.0</td>\n",
       "      <td>0</td>\n",
       "      <td>0</td>\n",
       "      <td>0</td>\n",
       "    </tr>\n",
       "    <tr>\n",
       "      <th>182927</th>\n",
       "      <td>25.389999</td>\n",
       "      <td>0</td>\n",
       "      <td>0</td>\n",
       "      <td>0</td>\n",
       "      <td>0.0</td>\n",
       "      <td>0.0</td>\n",
       "      <td>0</td>\n",
       "      <td>0</td>\n",
       "      <td>8</td>\n",
       "      <td>0</td>\n",
       "      <td>1</td>\n",
       "      <td>3</td>\n",
       "      <td>7.0</td>\n",
       "      <td>1</td>\n",
       "      <td>0</td>\n",
       "      <td>0</td>\n",
       "    </tr>\n",
       "    <tr>\n",
       "      <th>32376</th>\n",
       "      <td>35.439999</td>\n",
       "      <td>0</td>\n",
       "      <td>0</td>\n",
       "      <td>0</td>\n",
       "      <td>0.0</td>\n",
       "      <td>0.0</td>\n",
       "      <td>0</td>\n",
       "      <td>0</td>\n",
       "      <td>9</td>\n",
       "      <td>0</td>\n",
       "      <td>1</td>\n",
       "      <td>4</td>\n",
       "      <td>8.0</td>\n",
       "      <td>0</td>\n",
       "      <td>0</td>\n",
       "      <td>0</td>\n",
       "    </tr>\n",
       "    <tr>\n",
       "      <th>...</th>\n",
       "      <td>...</td>\n",
       "      <td>...</td>\n",
       "      <td>...</td>\n",
       "      <td>...</td>\n",
       "      <td>...</td>\n",
       "      <td>...</td>\n",
       "      <td>...</td>\n",
       "      <td>...</td>\n",
       "      <td>...</td>\n",
       "      <td>...</td>\n",
       "      <td>...</td>\n",
       "      <td>...</td>\n",
       "      <td>...</td>\n",
       "      <td>...</td>\n",
       "      <td>...</td>\n",
       "      <td>...</td>\n",
       "    </tr>\n",
       "    <tr>\n",
       "      <th>30079</th>\n",
       "      <td>24.209999</td>\n",
       "      <td>1</td>\n",
       "      <td>0</td>\n",
       "      <td>0</td>\n",
       "      <td>0.0</td>\n",
       "      <td>5.0</td>\n",
       "      <td>0</td>\n",
       "      <td>0</td>\n",
       "      <td>5</td>\n",
       "      <td>0</td>\n",
       "      <td>1</td>\n",
       "      <td>4</td>\n",
       "      <td>7.0</td>\n",
       "      <td>0</td>\n",
       "      <td>0</td>\n",
       "      <td>0</td>\n",
       "    </tr>\n",
       "    <tr>\n",
       "      <th>116509</th>\n",
       "      <td>27.120001</td>\n",
       "      <td>1</td>\n",
       "      <td>0</td>\n",
       "      <td>0</td>\n",
       "      <td>0.0</td>\n",
       "      <td>10.0</td>\n",
       "      <td>0</td>\n",
       "      <td>1</td>\n",
       "      <td>11</td>\n",
       "      <td>3</td>\n",
       "      <td>0</td>\n",
       "      <td>2</td>\n",
       "      <td>6.0</td>\n",
       "      <td>0</td>\n",
       "      <td>0</td>\n",
       "      <td>0</td>\n",
       "    </tr>\n",
       "    <tr>\n",
       "      <th>257587</th>\n",
       "      <td>32.919998</td>\n",
       "      <td>0</td>\n",
       "      <td>0</td>\n",
       "      <td>0</td>\n",
       "      <td>0.0</td>\n",
       "      <td>20.0</td>\n",
       "      <td>0</td>\n",
       "      <td>0</td>\n",
       "      <td>7</td>\n",
       "      <td>0</td>\n",
       "      <td>0</td>\n",
       "      <td>2</td>\n",
       "      <td>7.0</td>\n",
       "      <td>0</td>\n",
       "      <td>0</td>\n",
       "      <td>0</td>\n",
       "    </tr>\n",
       "    <tr>\n",
       "      <th>237233</th>\n",
       "      <td>28.250000</td>\n",
       "      <td>1</td>\n",
       "      <td>0</td>\n",
       "      <td>0</td>\n",
       "      <td>0.0</td>\n",
       "      <td>25.0</td>\n",
       "      <td>0</td>\n",
       "      <td>0</td>\n",
       "      <td>4</td>\n",
       "      <td>0</td>\n",
       "      <td>1</td>\n",
       "      <td>4</td>\n",
       "      <td>8.0</td>\n",
       "      <td>0</td>\n",
       "      <td>0</td>\n",
       "      <td>0</td>\n",
       "    </tr>\n",
       "    <tr>\n",
       "      <th>1793</th>\n",
       "      <td>22.240000</td>\n",
       "      <td>0</td>\n",
       "      <td>0</td>\n",
       "      <td>0</td>\n",
       "      <td>0.0</td>\n",
       "      <td>7.0</td>\n",
       "      <td>0</td>\n",
       "      <td>0</td>\n",
       "      <td>1</td>\n",
       "      <td>0</td>\n",
       "      <td>1</td>\n",
       "      <td>3</td>\n",
       "      <td>7.0</td>\n",
       "      <td>0</td>\n",
       "      <td>0</td>\n",
       "      <td>0</td>\n",
       "    </tr>\n",
       "  </tbody>\n",
       "</table>\n",
       "<p>59133 rows × 16 columns</p>\n",
       "</div>"
      ],
      "text/plain": [
       "              BMI  Smoking  AlcoholDrinking  Stroke  PhysicalHealth  \\\n",
       "254114  28.250000        1                1       0             1.0   \n",
       "107678  35.340000        1                1       0             0.0   \n",
       "117802  27.799999        1                0       0             0.0   \n",
       "182927  25.389999        0                0       0             0.0   \n",
       "32376   35.439999        0                0       0             0.0   \n",
       "...           ...      ...              ...     ...             ...   \n",
       "30079   24.209999        1                0       0             0.0   \n",
       "116509  27.120001        1                0       0             0.0   \n",
       "257587  32.919998        0                0       0             0.0   \n",
       "237233  28.250000        1                0       0             0.0   \n",
       "1793    22.240000        0                0       0             0.0   \n",
       "\n",
       "        MentalHealth  DiffWalking  Sex  AgeCategory  Diabetic  \\\n",
       "254114           4.0            0    0            3         2   \n",
       "107678           0.0            0    1            5         0   \n",
       "117802           0.0            0    1            6         0   \n",
       "182927           0.0            0    0            8         0   \n",
       "32376            0.0            0    0            9         0   \n",
       "...              ...          ...  ...          ...       ...   \n",
       "30079            5.0            0    0            5         0   \n",
       "116509          10.0            0    1           11         3   \n",
       "257587          20.0            0    0            7         0   \n",
       "237233          25.0            0    0            4         0   \n",
       "1793             7.0            0    0            1         0   \n",
       "\n",
       "        PhysicalActivity  GenHealth  SleepTime  Asthma  KidneyDisease  \\\n",
       "254114                 1          3        7.0       0              0   \n",
       "107678                 1          4        8.0       0              0   \n",
       "117802                 1          3        6.0       0              0   \n",
       "182927                 1          3        7.0       1              0   \n",
       "32376                  1          4        8.0       0              0   \n",
       "...                  ...        ...        ...     ...            ...   \n",
       "30079                  1          4        7.0       0              0   \n",
       "116509                 0          2        6.0       0              0   \n",
       "257587                 0          2        7.0       0              0   \n",
       "237233                 1          4        8.0       0              0   \n",
       "1793                   1          3        7.0       0              0   \n",
       "\n",
       "        SkinCancer  \n",
       "254114           0  \n",
       "107678           0  \n",
       "117802           0  \n",
       "182927           0  \n",
       "32376            0  \n",
       "...            ...  \n",
       "30079            0  \n",
       "116509           0  \n",
       "257587           0  \n",
       "237233           0  \n",
       "1793             0  \n",
       "\n",
       "[59133 rows x 16 columns]"
      ]
     },
     "execution_count": 615,
     "metadata": {},
     "output_type": "execute_result"
    }
   ],
   "source": [
    "X_test"
   ]
  },
  {
   "cell_type": "markdown",
   "metadata": {},
   "source": [
    "## Treinamento - Rede Neural"
   ]
  },
  {
   "cell_type": "markdown",
   "metadata": {},
   "source": [
    "### Preparação do modelo"
   ]
  },
  {
   "cell_type": "code",
   "execution_count": 616,
   "metadata": {},
   "outputs": [
    {
     "name": "stderr",
     "output_type": "stream",
     "text": [
      "D:\\anaconda3\\lib\\site-packages\\keras\\optimizers\\optimizer_v2\\adam.py:114: UserWarning: The `lr` argument is deprecated, use `learning_rate` instead.\n",
      "  super().__init__(name, **kwargs)\n"
     ]
    }
   ],
   "source": [
    "from tensorflow.keras.models import Sequential\n",
    "from tensorflow.keras.layers import Dense\n",
    "from tensorflow.keras import models, layers, optimizers, losses, metrics\n",
    "from tensorflow.keras.callbacks import ModelCheckpoint, EarlyStopping, TensorBoard\n",
    "\n",
    "LR = 0.001\n",
    "BETA1 = 0.9\n",
    "BETA2 = 0.999\n",
    "EPSILON = 1.0e-8\n",
    "DECAY = 0.0\n",
    "VAL_PERC = 0.4\n",
    "\n",
    "opt = optimizers.Adam(lr=LR,\n",
    "                      beta_1=BETA1,\n",
    "                      beta_2=BETA2,\n",
    "                      epsilon=EPSILON,\n",
    "                      decay=DECAY)\n",
    "\n",
    "loss = losses.binary_crossentropy\n",
    "met = [metrics.binary_accuracy]\n",
    "\n",
    "callbacks_list = [EarlyStopping(\n",
    "        monitor='binary_accuracy',\n",
    "        patience=10),]"
   ]
  },
  {
   "cell_type": "markdown",
   "metadata": {},
   "source": [
    "### Treino"
   ]
  },
  {
   "cell_type": "code",
   "execution_count": 617,
   "metadata": {},
   "outputs": [
    {
     "name": "stdout",
     "output_type": "stream",
     "text": [
      "Epoch 1/50\n",
      "534/534 - 2s - loss: 0.5338 - binary_accuracy: 0.7352 - val_loss: 0.5180 - val_binary_accuracy: 0.7470 - 2s/epoch - 4ms/step\n",
      "Epoch 2/50\n",
      "534/534 - 2s - loss: 0.5131 - binary_accuracy: 0.7497 - val_loss: 0.5134 - val_binary_accuracy: 0.7522 - 2s/epoch - 3ms/step\n",
      "Epoch 3/50\n",
      "534/534 - 2s - loss: 0.5070 - binary_accuracy: 0.7530 - val_loss: 0.5268 - val_binary_accuracy: 0.7490 - 2s/epoch - 3ms/step\n",
      "Epoch 4/50\n",
      "534/534 - 2s - loss: 0.5059 - binary_accuracy: 0.7511 - val_loss: 0.5069 - val_binary_accuracy: 0.7541 - 2s/epoch - 3ms/step\n",
      "Epoch 5/50\n",
      "534/534 - 2s - loss: 0.5034 - binary_accuracy: 0.7557 - val_loss: 0.5051 - val_binary_accuracy: 0.7564 - 2s/epoch - 3ms/step\n",
      "Epoch 6/50\n",
      "534/534 - 2s - loss: 0.5039 - binary_accuracy: 0.7562 - val_loss: 0.5108 - val_binary_accuracy: 0.7489 - 2s/epoch - 3ms/step\n",
      "Epoch 7/50\n",
      "534/534 - 2s - loss: 0.5029 - binary_accuracy: 0.7559 - val_loss: 0.5050 - val_binary_accuracy: 0.7571 - 2s/epoch - 3ms/step\n",
      "Epoch 8/50\n",
      "534/534 - 2s - loss: 0.5013 - binary_accuracy: 0.7564 - val_loss: 0.5192 - val_binary_accuracy: 0.7452 - 2s/epoch - 3ms/step\n",
      "Epoch 9/50\n",
      "534/534 - 2s - loss: 0.5012 - binary_accuracy: 0.7572 - val_loss: 0.5081 - val_binary_accuracy: 0.7533 - 2s/epoch - 3ms/step\n",
      "Epoch 10/50\n",
      "534/534 - 2s - loss: 0.5008 - binary_accuracy: 0.7578 - val_loss: 0.5068 - val_binary_accuracy: 0.7514 - 2s/epoch - 3ms/step\n",
      "Epoch 11/50\n",
      "534/534 - 2s - loss: 0.5006 - binary_accuracy: 0.7578 - val_loss: 0.5050 - val_binary_accuracy: 0.7551 - 2s/epoch - 3ms/step\n",
      "Epoch 12/50\n",
      "534/534 - 2s - loss: 0.4998 - binary_accuracy: 0.7589 - val_loss: 0.5048 - val_binary_accuracy: 0.7554 - 2s/epoch - 3ms/step\n",
      "Epoch 13/50\n",
      "534/534 - 2s - loss: 0.4993 - binary_accuracy: 0.7573 - val_loss: 0.5068 - val_binary_accuracy: 0.7571 - 2s/epoch - 3ms/step\n",
      "Epoch 14/50\n",
      "534/534 - 2s - loss: 0.4982 - binary_accuracy: 0.7598 - val_loss: 0.5051 - val_binary_accuracy: 0.7570 - 2s/epoch - 3ms/step\n",
      "Epoch 15/50\n",
      "534/534 - 2s - loss: 0.4980 - binary_accuracy: 0.7586 - val_loss: 0.5049 - val_binary_accuracy: 0.7563 - 2s/epoch - 3ms/step\n",
      "Epoch 16/50\n",
      "534/534 - 2s - loss: 0.4986 - binary_accuracy: 0.7588 - val_loss: 0.5060 - val_binary_accuracy: 0.7525 - 2s/epoch - 3ms/step\n",
      "Epoch 17/50\n",
      "534/534 - 2s - loss: 0.4978 - binary_accuracy: 0.7587 - val_loss: 0.5082 - val_binary_accuracy: 0.7533 - 2s/epoch - 3ms/step\n",
      "Epoch 18/50\n",
      "534/534 - 2s - loss: 0.4975 - binary_accuracy: 0.7595 - val_loss: 0.5124 - val_binary_accuracy: 0.7513 - 2s/epoch - 3ms/step\n",
      "Epoch 19/50\n",
      "534/534 - 2s - loss: 0.4979 - binary_accuracy: 0.7616 - val_loss: 0.5056 - val_binary_accuracy: 0.7550 - 2s/epoch - 3ms/step\n",
      "Epoch 20/50\n",
      "534/534 - 2s - loss: 0.4963 - binary_accuracy: 0.7604 - val_loss: 0.5066 - val_binary_accuracy: 0.7576 - 2s/epoch - 3ms/step\n",
      "Epoch 21/50\n",
      "534/534 - 2s - loss: 0.4966 - binary_accuracy: 0.7611 - val_loss: 0.5043 - val_binary_accuracy: 0.7566 - 2s/epoch - 3ms/step\n",
      "Epoch 22/50\n",
      "534/534 - 2s - loss: 0.4953 - binary_accuracy: 0.7626 - val_loss: 0.5035 - val_binary_accuracy: 0.7564 - 2s/epoch - 3ms/step\n",
      "Epoch 23/50\n",
      "534/534 - 2s - loss: 0.4965 - binary_accuracy: 0.7595 - val_loss: 0.5047 - val_binary_accuracy: 0.7540 - 2s/epoch - 3ms/step\n",
      "Epoch 24/50\n",
      "534/534 - 2s - loss: 0.4959 - binary_accuracy: 0.7609 - val_loss: 0.5066 - val_binary_accuracy: 0.7549 - 2s/epoch - 3ms/step\n",
      "Epoch 25/50\n",
      "534/534 - 2s - loss: 0.4952 - binary_accuracy: 0.7605 - val_loss: 0.5070 - val_binary_accuracy: 0.7540 - 2s/epoch - 3ms/step\n",
      "Epoch 26/50\n",
      "534/534 - 2s - loss: 0.4949 - binary_accuracy: 0.7627 - val_loss: 0.5062 - val_binary_accuracy: 0.7529 - 2s/epoch - 3ms/step\n",
      "Epoch 27/50\n",
      "534/534 - 2s - loss: 0.4939 - binary_accuracy: 0.7609 - val_loss: 0.5036 - val_binary_accuracy: 0.7562 - 2s/epoch - 3ms/step\n",
      "Epoch 28/50\n",
      "534/534 - 2s - loss: 0.4943 - binary_accuracy: 0.7622 - val_loss: 0.5065 - val_binary_accuracy: 0.7562 - 2s/epoch - 3ms/step\n",
      "Epoch 29/50\n",
      "534/534 - 2s - loss: 0.4934 - binary_accuracy: 0.7619 - val_loss: 0.5109 - val_binary_accuracy: 0.7541 - 2s/epoch - 3ms/step\n",
      "Epoch 30/50\n",
      "534/534 - 2s - loss: 0.4937 - binary_accuracy: 0.7619 - val_loss: 0.5068 - val_binary_accuracy: 0.7542 - 2s/epoch - 3ms/step\n",
      "Epoch 31/50\n",
      "534/534 - 2s - loss: 0.4928 - binary_accuracy: 0.7634 - val_loss: 0.5066 - val_binary_accuracy: 0.7540 - 2s/epoch - 3ms/step\n",
      "Epoch 32/50\n",
      "534/534 - 2s - loss: 0.4920 - binary_accuracy: 0.7639 - val_loss: 0.5070 - val_binary_accuracy: 0.7564 - 2s/epoch - 3ms/step\n",
      "Epoch 33/50\n",
      "534/534 - 2s - loss: 0.4917 - binary_accuracy: 0.7631 - val_loss: 0.5066 - val_binary_accuracy: 0.7524 - 2s/epoch - 3ms/step\n",
      "Epoch 34/50\n",
      "534/534 - 2s - loss: 0.4915 - binary_accuracy: 0.7629 - val_loss: 0.5092 - val_binary_accuracy: 0.7549 - 2s/epoch - 3ms/step\n",
      "Epoch 35/50\n",
      "534/534 - 2s - loss: 0.4902 - binary_accuracy: 0.7630 - val_loss: 0.5072 - val_binary_accuracy: 0.7545 - 2s/epoch - 3ms/step\n",
      "Epoch 36/50\n",
      "534/534 - 2s - loss: 0.4902 - binary_accuracy: 0.7636 - val_loss: 0.5065 - val_binary_accuracy: 0.7547 - 2s/epoch - 3ms/step\n",
      "Epoch 37/50\n",
      "534/534 - 2s - loss: 0.4898 - binary_accuracy: 0.7644 - val_loss: 0.5075 - val_binary_accuracy: 0.7541 - 2s/epoch - 3ms/step\n",
      "Epoch 38/50\n",
      "534/534 - 2s - loss: 0.4892 - binary_accuracy: 0.7632 - val_loss: 0.5119 - val_binary_accuracy: 0.7541 - 2s/epoch - 3ms/step\n",
      "Epoch 39/50\n",
      "534/534 - 2s - loss: 0.4885 - binary_accuracy: 0.7648 - val_loss: 0.5127 - val_binary_accuracy: 0.7529 - 2s/epoch - 3ms/step\n",
      "Epoch 40/50\n",
      "534/534 - 2s - loss: 0.4883 - binary_accuracy: 0.7649 - val_loss: 0.5142 - val_binary_accuracy: 0.7508 - 2s/epoch - 3ms/step\n",
      "Epoch 41/50\n",
      "534/534 - 2s - loss: 0.4871 - binary_accuracy: 0.7658 - val_loss: 0.5100 - val_binary_accuracy: 0.7562 - 2s/epoch - 3ms/step\n",
      "Epoch 42/50\n",
      "534/534 - 2s - loss: 0.4865 - binary_accuracy: 0.7658 - val_loss: 0.5120 - val_binary_accuracy: 0.7499 - 2s/epoch - 3ms/step\n",
      "Epoch 43/50\n",
      "534/534 - 2s - loss: 0.4856 - binary_accuracy: 0.7669 - val_loss: 0.5102 - val_binary_accuracy: 0.7541 - 2s/epoch - 3ms/step\n",
      "Epoch 44/50\n",
      "534/534 - 2s - loss: 0.4857 - binary_accuracy: 0.7669 - val_loss: 0.5096 - val_binary_accuracy: 0.7520 - 2s/epoch - 3ms/step\n",
      "Epoch 45/50\n",
      "534/534 - 2s - loss: 0.4856 - binary_accuracy: 0.7647 - val_loss: 0.5139 - val_binary_accuracy: 0.7536 - 2s/epoch - 3ms/step\n",
      "Epoch 46/50\n",
      "534/534 - 2s - loss: 0.4838 - binary_accuracy: 0.7672 - val_loss: 0.5119 - val_binary_accuracy: 0.7517 - 2s/epoch - 3ms/step\n",
      "Epoch 47/50\n",
      "534/534 - 2s - loss: 0.4836 - binary_accuracy: 0.7676 - val_loss: 0.5179 - val_binary_accuracy: 0.7487 - 2s/epoch - 3ms/step\n",
      "Epoch 48/50\n",
      "534/534 - 2s - loss: 0.4823 - binary_accuracy: 0.7677 - val_loss: 0.5140 - val_binary_accuracy: 0.7534 - 2s/epoch - 3ms/step\n",
      "Epoch 49/50\n",
      "534/534 - 2s - loss: 0.4817 - binary_accuracy: 0.7681 - val_loss: 0.5154 - val_binary_accuracy: 0.7489 - 2s/epoch - 3ms/step\n",
      "Epoch 50/50\n",
      "534/534 - 2s - loss: 0.4811 - binary_accuracy: 0.7699 - val_loss: 0.5156 - val_binary_accuracy: 0.7501 - 2s/epoch - 3ms/step\n",
      "1848/1848 [==============================] - 2s 1ms/step\n"
     ]
    }
   ],
   "source": [
    "model = Sequential()\n",
    "model.add(Dense(20, input_dim=16, activation='relu', kernel_initializer='he_normal'))\n",
    "model.add(Dense(50, activation='relu'))\n",
    "model.add(Dense(256, activation='relu'))\n",
    "model.add(Dense(256, activation='relu'))\n",
    "model.add(Dense(10, activation='relu'))\n",
    "model.add(Dense(1, activation='sigmoid'))#linear\n",
    "\n",
    "model.compile(loss=loss, optimizer=opt, metrics=met)\n",
    "\n",
    "\n",
    "X_train['HeartDisease'] = y_train\n",
    "\n",
    "training, validation = train_test_split(X_train,\n",
    "                               test_size = 0.2,\n",
    "                               stratify = X_train['HeartDisease'],\n",
    "                               random_state = 42)\n",
    "\n",
    "X_train = X_train.drop('HeartDisease',axis=1)\n",
    "\n",
    "Y_training = training['HeartDisease']\n",
    "X_training = training.drop('HeartDisease',axis=1)\n",
    "\n",
    "Y_validation = validation['HeartDisease']\n",
    "X_validation = validation.drop('HeartDisease',axis=1)\n",
    "\n",
    "# fit the keras model on the dataset\n",
    "history = model.fit(X_training, Y_training, epochs=50, batch_size=64, verbose=2, shuffle=True,\n",
    "                    validation_data=(X_validation, Y_validation), callbacks=callbacks_list)\n",
    "\n",
    "# evaluate on test set\n",
    "yhat = model.predict(X_test)"
   ]
  },
  {
   "cell_type": "markdown",
   "metadata": {},
   "source": [
    "### Informações sobre o modelo"
   ]
  },
  {
   "cell_type": "code",
   "execution_count": 618,
   "metadata": {},
   "outputs": [
    {
     "name": "stdout",
     "output_type": "stream",
     "text": [
      "Model: \"sequential_16\"\n",
      "_________________________________________________________________\n",
      " Layer (type)                Output Shape              Param #   \n",
      "=================================================================\n",
      " dense_93 (Dense)            (None, 20)                340       \n",
      "                                                                 \n",
      " dense_94 (Dense)            (None, 50)                1050      \n",
      "                                                                 \n",
      " dense_95 (Dense)            (None, 256)               13056     \n",
      "                                                                 \n",
      " dense_96 (Dense)            (None, 256)               65792     \n",
      "                                                                 \n",
      " dense_97 (Dense)            (None, 10)                2570      \n",
      "                                                                 \n",
      " dense_98 (Dense)            (None, 1)                 11        \n",
      "                                                                 \n",
      "=================================================================\n",
      "Total params: 82,819\n",
      "Trainable params: 82,819\n",
      "Non-trainable params: 0\n",
      "_________________________________________________________________\n"
     ]
    }
   ],
   "source": [
    "model.summary()"
   ]
  },
  {
   "cell_type": "markdown",
   "metadata": {},
   "source": [
    "## Resultados - Modelo 1 (Rede Neural)"
   ]
  },
  {
   "cell_type": "code",
   "execution_count": 619,
   "metadata": {},
   "outputs": [
    {
     "name": "stdout",
     "output_type": "stream",
     "text": [
      "Mean Absolute Error:  0.32279347262193325\n"
     ]
    }
   ],
   "source": [
    "from sklearn.metrics import mean_absolute_error\n",
    "error = mean_absolute_error(y_test, yhat)\n",
    "print('Mean Absolute Error: ', error)"
   ]
  },
  {
   "cell_type": "code",
   "execution_count": 620,
   "metadata": {},
   "outputs": [
    {
     "name": "stdout",
     "output_type": "stream",
     "text": [
      "[0.51112961769104, 0.7204099297523499]\n"
     ]
    }
   ],
   "source": [
    "scores = model.evaluate(X_test, y_test, verbose=0)\n",
    "print(scores)"
   ]
  },
  {
   "cell_type": "code",
   "execution_count": 621,
   "metadata": {},
   "outputs": [
    {
     "name": "stdout",
     "output_type": "stream",
     "text": [
      "1848/1848 [==============================] - 2s 1ms/step\n",
      "binary_accuracy: 72.04%\n"
     ]
    }
   ],
   "source": [
    "from sklearn.metrics import precision_score\n",
    "y_pred = model.predict(X_test)\n",
    "#y_pred holds the probability of each data point from X_test\n",
    "\n",
    "y_pred = (y_pred > 0.5)\n",
    "\n",
    "precision = precision_score(y_test, y_pred)\n",
    "#print('precision (test): ' + \"%.2f%%\" %  (precision*100))\n",
    "print(\"%s: %.2f%%\" % (model.metrics_names[1], scores[1]*100))"
   ]
  },
  {
   "cell_type": "code",
   "execution_count": 622,
   "metadata": {},
   "outputs": [
    {
     "name": "stdout",
     "output_type": "stream",
     "text": [
      "1848/1848 [==============================] - 2s 1ms/step\n"
     ]
    },
    {
     "data": {
      "image/png": "[encoded data removed]",
      "text/plain": [
       "<Figure size 432x288 with 2 Axes>"
      ]
     },
     "metadata": {
      "needs_background": "light"
     },
     "output_type": "display_data"
    }
   ],
   "source": [
    "from sklearn.metrics import confusion_matrix, ConfusionMatrixDisplay\n",
    "\n",
    "y_pred = model.predict(X_test)\n",
    "#y_pred holds the probability of each data point from X_test\n",
    "\n",
    "y_pred = (y_pred > 0.5)\n",
    "\n",
    "confusion_matrix = confusion_matrix(y_test, y_pred)\n",
    "\n",
    "cm_display = ConfusionMatrixDisplay(confusion_matrix = confusion_matrix, display_labels = [False, True])\n",
    "\n",
    "cm_display.plot()\n",
    "plt.show()"
   ]
  },
  {
   "cell_type": "markdown",
   "metadata": {},
   "source": [
    "## Learning Curves (Modelo - Rede Neural)"
   ]
  },
  {
   "cell_type": "code",
   "execution_count": 623,
   "metadata": {},
   "outputs": [
    {
     "data": {
      "image/png": "[encoded data removed]",
      "text/plain": [
       "<Figure size 720x1080 with 2 Axes>"
      ]
     },
     "metadata": {
      "needs_background": "light"
     },
     "output_type": "display_data"
    }
   ],
   "source": [
    "# learning curves\n",
    "history_dict = history.history\n",
    "history_dict.keys()\n",
    "\n",
    "# losses\n",
    "loss_values = history_dict['loss']\n",
    "val_loss_values = history_dict['val_loss']\n",
    "\n",
    "# accuracies\n",
    "acc_values = history_dict['binary_accuracy']\n",
    "val_acc_values = history_dict['val_binary_accuracy']\n",
    "\n",
    "epochs = range(50)\n",
    "\n",
    "fig, (ax1, ax2) = plt.subplots(2,1, figsize=(10,15))\n",
    "\n",
    "ax1.plot(epochs, loss_values, 'bo', label=\"Training Loss\")\n",
    "ax1.plot(epochs, val_loss_values, 'b', label=\"Validation Loss\")\n",
    "ax1.set_title('Training and Validation Loss')\n",
    "ax1.set_xlabel('Epochs')\n",
    "ax1.set_ylabel('Loss Value')\n",
    "ax1.legend()\n",
    "ax1.grid(True)\n",
    "\n",
    "ax2.plot(epochs, acc_values, 'ro', label=\"Training Accuracy\")\n",
    "ax2.plot(epochs, val_acc_values, 'r', label=\"Validation Accuracy\")\n",
    "ax2.set_title('Training and Validation Accuraccy')\n",
    "ax2.set_xlabel('Epochs')\n",
    "ax2.set_ylabel('Accuracy')\n",
    "ax2.legend()\n",
    "ax2.grid(True)\n",
    "\n",
    "plt.show()"
   ]
  },
  {
   "cell_type": "markdown",
   "metadata": {},
   "source": [
    "## Ajuste de Hiperparâmetros - Modelo Rede Neural"
   ]
  },
  {
   "cell_type": "code",
   "execution_count": 629,
   "metadata": {},
   "outputs": [
    {
     "name": "stdout",
     "output_type": "stream",
     "text": [
      "Epoch 1/140\n",
      "267/267 - 1s - loss: 0.2874 - binary_accuracy: 0.8684 - val_loss: 1.4928 - val_binary_accuracy: 0.7139 - 1s/epoch - 4ms/step\n",
      "Epoch 2/140\n",
      "267/267 - 1s - loss: 0.2858 - binary_accuracy: 0.8689 - val_loss: 1.5039 - val_binary_accuracy: 0.7182 - 1s/epoch - 4ms/step\n",
      "Epoch 3/140\n",
      "267/267 - 1s - loss: 0.2977 - binary_accuracy: 0.8646 - val_loss: 1.5349 - val_binary_accuracy: 0.7118 - 1s/epoch - 4ms/step\n",
      "Epoch 4/140\n",
      "267/267 - 1s - loss: 0.2942 - binary_accuracy: 0.8657 - val_loss: 1.4575 - val_binary_accuracy: 0.7118 - 1s/epoch - 4ms/step\n",
      "Epoch 5/140\n",
      "267/267 - 1s - loss: 0.2936 - binary_accuracy: 0.8654 - val_loss: 1.3785 - val_binary_accuracy: 0.7153 - 1s/epoch - 4ms/step\n",
      "Epoch 6/140\n",
      "267/267 - 1s - loss: 0.3057 - binary_accuracy: 0.8613 - val_loss: 1.4160 - val_binary_accuracy: 0.7139 - 1s/epoch - 4ms/step\n",
      "Epoch 7/140\n",
      "267/267 - 1s - loss: 0.2884 - binary_accuracy: 0.8685 - val_loss: 1.4353 - val_binary_accuracy: 0.7134 - 1s/epoch - 4ms/step\n",
      "Epoch 8/140\n",
      "267/267 - 1s - loss: 0.2976 - binary_accuracy: 0.8651 - val_loss: 1.4844 - val_binary_accuracy: 0.7175 - 1s/epoch - 4ms/step\n",
      "Epoch 9/140\n",
      "267/267 - 1s - loss: 0.2879 - binary_accuracy: 0.8685 - val_loss: 1.5027 - val_binary_accuracy: 0.7186 - 1s/epoch - 4ms/step\n",
      "Epoch 10/140\n",
      "267/267 - 1s - loss: 0.2857 - binary_accuracy: 0.8697 - val_loss: 1.4956 - val_binary_accuracy: 0.7112 - 1s/epoch - 4ms/step\n",
      "Epoch 11/140\n",
      "267/267 - 1s - loss: 0.2791 - binary_accuracy: 0.8714 - val_loss: 1.5398 - val_binary_accuracy: 0.7158 - 1s/epoch - 4ms/step\n",
      "Epoch 12/140\n",
      "267/267 - 1s - loss: 0.2822 - binary_accuracy: 0.8694 - val_loss: 1.4827 - val_binary_accuracy: 0.7148 - 1s/epoch - 4ms/step\n",
      "Epoch 13/140\n",
      "267/267 - 1s - loss: 0.2767 - binary_accuracy: 0.8717 - val_loss: 1.5761 - val_binary_accuracy: 0.7204 - 956ms/epoch - 4ms/step\n",
      "Epoch 14/140\n",
      "267/267 - 1s - loss: 0.2812 - binary_accuracy: 0.8706 - val_loss: 1.5394 - val_binary_accuracy: 0.7136 - 1s/epoch - 4ms/step\n",
      "Epoch 15/140\n",
      "267/267 - 1s - loss: 0.2940 - binary_accuracy: 0.8664 - val_loss: 1.5706 - val_binary_accuracy: 0.7069 - 1s/epoch - 4ms/step\n",
      "Epoch 16/140\n",
      "267/267 - 1s - loss: 0.3090 - binary_accuracy: 0.8598 - val_loss: 1.5094 - val_binary_accuracy: 0.7217 - 998ms/epoch - 4ms/step\n",
      "Epoch 17/140\n",
      "267/267 - 1s - loss: 0.2908 - binary_accuracy: 0.8667 - val_loss: 1.4801 - val_binary_accuracy: 0.7069 - 958ms/epoch - 4ms/step\n",
      "Epoch 18/140\n",
      "267/267 - 1s - loss: 0.2796 - binary_accuracy: 0.8721 - val_loss: 1.5504 - val_binary_accuracy: 0.7135 - 972ms/epoch - 4ms/step\n",
      "Epoch 19/140\n",
      "267/267 - 1s - loss: 0.2726 - binary_accuracy: 0.8756 - val_loss: 1.5110 - val_binary_accuracy: 0.7120 - 972ms/epoch - 4ms/step\n",
      "Epoch 20/140\n",
      "267/267 - 1s - loss: 0.2717 - binary_accuracy: 0.8741 - val_loss: 1.6200 - val_binary_accuracy: 0.7120 - 1s/epoch - 4ms/step\n",
      "Epoch 21/140\n",
      "267/267 - 1s - loss: 0.2840 - binary_accuracy: 0.8715 - val_loss: 1.4825 - val_binary_accuracy: 0.7179 - 1s/epoch - 4ms/step\n",
      "Epoch 22/140\n",
      "267/267 - 1s - loss: 0.2892 - binary_accuracy: 0.8683 - val_loss: 1.4769 - val_binary_accuracy: 0.7193 - 1s/epoch - 4ms/step\n",
      "Epoch 23/140\n",
      "267/267 - 1s - loss: 0.2905 - binary_accuracy: 0.8687 - val_loss: 1.5734 - val_binary_accuracy: 0.7170 - 1s/epoch - 4ms/step\n",
      "Epoch 24/140\n",
      "267/267 - 1s - loss: 0.2951 - binary_accuracy: 0.8651 - val_loss: 1.5128 - val_binary_accuracy: 0.7176 - 1s/epoch - 4ms/step\n",
      "Epoch 25/140\n",
      "267/267 - 1s - loss: 0.2981 - binary_accuracy: 0.8665 - val_loss: 1.5370 - val_binary_accuracy: 0.7119 - 1s/epoch - 4ms/step\n",
      "Epoch 26/140\n",
      "267/267 - 1s - loss: 0.2818 - binary_accuracy: 0.8727 - val_loss: 1.5277 - val_binary_accuracy: 0.7175 - 1s/epoch - 4ms/step\n",
      "Epoch 27/140\n",
      "267/267 - 1s - loss: 0.2679 - binary_accuracy: 0.8774 - val_loss: 1.5659 - val_binary_accuracy: 0.7175 - 1s/epoch - 4ms/step\n",
      "Epoch 28/140\n",
      "267/267 - 1s - loss: 0.2687 - binary_accuracy: 0.8768 - val_loss: 1.6197 - val_binary_accuracy: 0.7155 - 1s/epoch - 4ms/step\n",
      "Epoch 29/140\n",
      "267/267 - 1s - loss: 0.2650 - binary_accuracy: 0.8781 - val_loss: 1.6214 - val_binary_accuracy: 0.7049 - 1s/epoch - 4ms/step\n",
      "Epoch 30/140\n",
      "267/267 - 1s - loss: 0.2669 - binary_accuracy: 0.8792 - val_loss: 1.6581 - val_binary_accuracy: 0.7095 - 1s/epoch - 4ms/step\n",
      "Epoch 31/140\n",
      "267/267 - 1s - loss: 0.2732 - binary_accuracy: 0.8740 - val_loss: 1.6016 - val_binary_accuracy: 0.7154 - 1s/epoch - 4ms/step\n",
      "Epoch 32/140\n",
      "267/267 - 1s - loss: 0.2916 - binary_accuracy: 0.8670 - val_loss: 1.4351 - val_binary_accuracy: 0.7163 - 1s/epoch - 4ms/step\n",
      "Epoch 33/140\n",
      "267/267 - 1s - loss: 0.2976 - binary_accuracy: 0.8669 - val_loss: 1.5226 - val_binary_accuracy: 0.7154 - 1s/epoch - 4ms/step\n",
      "Epoch 34/140\n",
      "267/267 - 1s - loss: 0.2720 - binary_accuracy: 0.8764 - val_loss: 1.6420 - val_binary_accuracy: 0.7162 - 1s/epoch - 4ms/step\n",
      "Epoch 35/140\n",
      "267/267 - 1s - loss: 0.2697 - binary_accuracy: 0.8772 - val_loss: 1.5725 - val_binary_accuracy: 0.7132 - 996ms/epoch - 4ms/step\n",
      "Epoch 36/140\n",
      "267/267 - 1s - loss: 0.2749 - binary_accuracy: 0.8752 - val_loss: 1.6409 - val_binary_accuracy: 0.7182 - 1s/epoch - 4ms/step\n",
      "Epoch 37/140\n",
      "267/267 - 1s - loss: 0.2742 - binary_accuracy: 0.8747 - val_loss: 1.5956 - val_binary_accuracy: 0.7156 - 1s/epoch - 4ms/step\n",
      "Epoch 38/140\n",
      "267/267 - 1s - loss: 0.2746 - binary_accuracy: 0.8755 - val_loss: 1.6710 - val_binary_accuracy: 0.7165 - 1s/epoch - 5ms/step\n",
      "Epoch 39/140\n",
      "267/267 - 1s - loss: 0.2666 - binary_accuracy: 0.8776 - val_loss: 1.6741 - val_binary_accuracy: 0.7174 - 1s/epoch - 4ms/step\n",
      "Epoch 40/140\n",
      "267/267 - 1s - loss: 0.2643 - binary_accuracy: 0.8792 - val_loss: 1.6731 - val_binary_accuracy: 0.7120 - 1s/epoch - 4ms/step\n",
      "1848/1848 [==============================] - 2s 1ms/step\n"
     ]
    }
   ],
   "source": [
    "# fit the keras model on the dataset\n",
    "history2 = model.fit(X_training, Y_training, epochs=140, batch_size=128, verbose=2, shuffle=True,\n",
    "                    validation_data=(X_validation, Y_validation), callbacks=callbacks_list)\n",
    "\n",
    "# evaluate on test set\n",
    "yhat2 = model.predict(X_test)"
   ]
  },
  {
   "cell_type": "markdown",
   "metadata": {},
   "source": [
    "### Resultados"
   ]
  },
  {
   "cell_type": "code",
   "execution_count": 625,
   "metadata": {},
   "outputs": [
    {
     "name": "stdout",
     "output_type": "stream",
     "text": [
      "Mean Absolute Error:  0.3166396107896707\n"
     ]
    }
   ],
   "source": [
    "error = mean_absolute_error(y_test, yhat2)\n",
    "print('Mean Absolute Error: ', error)"
   ]
  },
  {
   "cell_type": "code",
   "execution_count": 626,
   "metadata": {},
   "outputs": [
    {
     "name": "stdout",
     "output_type": "stream",
     "text": [
      "binary_accuracy: 72.04%\n"
     ]
    }
   ],
   "source": [
    "print(\"%s: %.2f%%\" % (model.metrics_names[1], scores[1]*100))"
   ]
  },
  {
   "cell_type": "code",
   "execution_count": 627,
   "metadata": {},
   "outputs": [
    {
     "ename": "ValueError",
     "evalue": "x and y must have same first dimension, but have shapes (140,) and (135,)",
     "output_type": "error",
     "traceback": [
      "\u001b[1;31m---------------------------------------------------------------------------\u001b[0m",
      "\u001b[1;31mValueError\u001b[0m                                Traceback (most recent call last)",
      "\u001b[1;32m<ipython-input-627-a0b83f171513>\u001b[0m in \u001b[0;36m<module>\u001b[1;34m\u001b[0m\n\u001b[0;32m     15\u001b[0m \u001b[0mfig\u001b[0m\u001b[1;33m,\u001b[0m \u001b[1;33m(\u001b[0m\u001b[0max1\u001b[0m\u001b[1;33m,\u001b[0m \u001b[0max2\u001b[0m\u001b[1;33m)\u001b[0m \u001b[1;33m=\u001b[0m \u001b[0mplt\u001b[0m\u001b[1;33m.\u001b[0m\u001b[0msubplots\u001b[0m\u001b[1;33m(\u001b[0m\u001b[1;36m2\u001b[0m\u001b[1;33m,\u001b[0m\u001b[1;36m1\u001b[0m\u001b[1;33m,\u001b[0m \u001b[0mfigsize\u001b[0m\u001b[1;33m=\u001b[0m\u001b[1;33m(\u001b[0m\u001b[1;36m10\u001b[0m\u001b[1;33m,\u001b[0m\u001b[1;36m15\u001b[0m\u001b[1;33m)\u001b[0m\u001b[1;33m)\u001b[0m\u001b[1;33m\u001b[0m\u001b[1;33m\u001b[0m\u001b[0m\n\u001b[0;32m     16\u001b[0m \u001b[1;33m\u001b[0m\u001b[0m\n\u001b[1;32m---> 17\u001b[1;33m \u001b[0max1\u001b[0m\u001b[1;33m.\u001b[0m\u001b[0mplot\u001b[0m\u001b[1;33m(\u001b[0m\u001b[0mepochs\u001b[0m\u001b[1;33m,\u001b[0m \u001b[0mloss_values\u001b[0m\u001b[1;33m,\u001b[0m \u001b[1;34m'bo'\u001b[0m\u001b[1;33m,\u001b[0m \u001b[0mlabel\u001b[0m\u001b[1;33m=\u001b[0m\u001b[1;34m\"Training Loss\"\u001b[0m\u001b[1;33m)\u001b[0m\u001b[1;33m\u001b[0m\u001b[1;33m\u001b[0m\u001b[0m\n\u001b[0m\u001b[0;32m     18\u001b[0m \u001b[0max1\u001b[0m\u001b[1;33m.\u001b[0m\u001b[0mplot\u001b[0m\u001b[1;33m(\u001b[0m\u001b[0mepochs\u001b[0m\u001b[1;33m,\u001b[0m \u001b[0mval_loss_values\u001b[0m\u001b[1;33m,\u001b[0m \u001b[1;34m'b'\u001b[0m\u001b[1;33m,\u001b[0m \u001b[0mlabel\u001b[0m\u001b[1;33m=\u001b[0m\u001b[1;34m\"Validation Loss\"\u001b[0m\u001b[1;33m)\u001b[0m\u001b[1;33m\u001b[0m\u001b[1;33m\u001b[0m\u001b[0m\n\u001b[0;32m     19\u001b[0m \u001b[0max1\u001b[0m\u001b[1;33m.\u001b[0m\u001b[0mset_title\u001b[0m\u001b[1;33m(\u001b[0m\u001b[1;34m'Training and Validation Loss'\u001b[0m\u001b[1;33m)\u001b[0m\u001b[1;33m\u001b[0m\u001b[1;33m\u001b[0m\u001b[0m\n",
      "\u001b[1;32mD:\\anaconda3\\lib\\site-packages\\matplotlib\\axes\\_axes.py\u001b[0m in \u001b[0;36mplot\u001b[1;34m(self, scalex, scaley, data, *args, **kwargs)\u001b[0m\n\u001b[0;32m   1741\u001b[0m         \"\"\"\n\u001b[0;32m   1742\u001b[0m         \u001b[0mkwargs\u001b[0m \u001b[1;33m=\u001b[0m \u001b[0mcbook\u001b[0m\u001b[1;33m.\u001b[0m\u001b[0mnormalize_kwargs\u001b[0m\u001b[1;33m(\u001b[0m\u001b[0mkwargs\u001b[0m\u001b[1;33m,\u001b[0m \u001b[0mmlines\u001b[0m\u001b[1;33m.\u001b[0m\u001b[0mLine2D\u001b[0m\u001b[1;33m)\u001b[0m\u001b[1;33m\u001b[0m\u001b[1;33m\u001b[0m\u001b[0m\n\u001b[1;32m-> 1743\u001b[1;33m         \u001b[0mlines\u001b[0m \u001b[1;33m=\u001b[0m \u001b[1;33m[\u001b[0m\u001b[1;33m*\u001b[0m\u001b[0mself\u001b[0m\u001b[1;33m.\u001b[0m\u001b[0m_get_lines\u001b[0m\u001b[1;33m(\u001b[0m\u001b[1;33m*\u001b[0m\u001b[0margs\u001b[0m\u001b[1;33m,\u001b[0m \u001b[0mdata\u001b[0m\u001b[1;33m=\u001b[0m\u001b[0mdata\u001b[0m\u001b[1;33m,\u001b[0m \u001b[1;33m**\u001b[0m\u001b[0mkwargs\u001b[0m\u001b[1;33m)\u001b[0m\u001b[1;33m]\u001b[0m\u001b[1;33m\u001b[0m\u001b[1;33m\u001b[0m\u001b[0m\n\u001b[0m\u001b[0;32m   1744\u001b[0m         \u001b[1;32mfor\u001b[0m \u001b[0mline\u001b[0m \u001b[1;32min\u001b[0m \u001b[0mlines\u001b[0m\u001b[1;33m:\u001b[0m\u001b[1;33m\u001b[0m\u001b[1;33m\u001b[0m\u001b[0m\n\u001b[0;32m   1745\u001b[0m             \u001b[0mself\u001b[0m\u001b[1;33m.\u001b[0m\u001b[0madd_line\u001b[0m\u001b[1;33m(\u001b[0m\u001b[0mline\u001b[0m\u001b[1;33m)\u001b[0m\u001b[1;33m\u001b[0m\u001b[1;33m\u001b[0m\u001b[0m\n",
      "\u001b[1;32mD:\\anaconda3\\lib\\site-packages\\matplotlib\\axes\\_base.py\u001b[0m in \u001b[0;36m__call__\u001b[1;34m(self, data, *args, **kwargs)\u001b[0m\n\u001b[0;32m    271\u001b[0m                 \u001b[0mthis\u001b[0m \u001b[1;33m+=\u001b[0m \u001b[0margs\u001b[0m\u001b[1;33m[\u001b[0m\u001b[1;36m0\u001b[0m\u001b[1;33m]\u001b[0m\u001b[1;33m,\u001b[0m\u001b[1;33m\u001b[0m\u001b[1;33m\u001b[0m\u001b[0m\n\u001b[0;32m    272\u001b[0m                 \u001b[0margs\u001b[0m \u001b[1;33m=\u001b[0m \u001b[0margs\u001b[0m\u001b[1;33m[\u001b[0m\u001b[1;36m1\u001b[0m\u001b[1;33m:\u001b[0m\u001b[1;33m]\u001b[0m\u001b[1;33m\u001b[0m\u001b[1;33m\u001b[0m\u001b[0m\n\u001b[1;32m--> 273\u001b[1;33m             \u001b[1;32myield\u001b[0m \u001b[1;32mfrom\u001b[0m \u001b[0mself\u001b[0m\u001b[1;33m.\u001b[0m\u001b[0m_plot_args\u001b[0m\u001b[1;33m(\u001b[0m\u001b[0mthis\u001b[0m\u001b[1;33m,\u001b[0m \u001b[0mkwargs\u001b[0m\u001b[1;33m)\u001b[0m\u001b[1;33m\u001b[0m\u001b[1;33m\u001b[0m\u001b[0m\n\u001b[0m\u001b[0;32m    274\u001b[0m \u001b[1;33m\u001b[0m\u001b[0m\n\u001b[0;32m    275\u001b[0m     \u001b[1;32mdef\u001b[0m \u001b[0mget_next_color\u001b[0m\u001b[1;33m(\u001b[0m\u001b[0mself\u001b[0m\u001b[1;33m)\u001b[0m\u001b[1;33m:\u001b[0m\u001b[1;33m\u001b[0m\u001b[1;33m\u001b[0m\u001b[0m\n",
      "\u001b[1;32mD:\\anaconda3\\lib\\site-packages\\matplotlib\\axes\\_base.py\u001b[0m in \u001b[0;36m_plot_args\u001b[1;34m(self, tup, kwargs)\u001b[0m\n\u001b[0;32m    397\u001b[0m \u001b[1;33m\u001b[0m\u001b[0m\n\u001b[0;32m    398\u001b[0m         \u001b[1;32mif\u001b[0m \u001b[0mx\u001b[0m\u001b[1;33m.\u001b[0m\u001b[0mshape\u001b[0m\u001b[1;33m[\u001b[0m\u001b[1;36m0\u001b[0m\u001b[1;33m]\u001b[0m \u001b[1;33m!=\u001b[0m \u001b[0my\u001b[0m\u001b[1;33m.\u001b[0m\u001b[0mshape\u001b[0m\u001b[1;33m[\u001b[0m\u001b[1;36m0\u001b[0m\u001b[1;33m]\u001b[0m\u001b[1;33m:\u001b[0m\u001b[1;33m\u001b[0m\u001b[1;33m\u001b[0m\u001b[0m\n\u001b[1;32m--> 399\u001b[1;33m             raise ValueError(f\"x and y must have same first dimension, but \"\n\u001b[0m\u001b[0;32m    400\u001b[0m                              f\"have shapes {x.shape} and {y.shape}\")\n\u001b[0;32m    401\u001b[0m         \u001b[1;32mif\u001b[0m \u001b[0mx\u001b[0m\u001b[1;33m.\u001b[0m\u001b[0mndim\u001b[0m \u001b[1;33m>\u001b[0m \u001b[1;36m2\u001b[0m \u001b[1;32mor\u001b[0m \u001b[0my\u001b[0m\u001b[1;33m.\u001b[0m\u001b[0mndim\u001b[0m \u001b[1;33m>\u001b[0m \u001b[1;36m2\u001b[0m\u001b[1;33m:\u001b[0m\u001b[1;33m\u001b[0m\u001b[1;33m\u001b[0m\u001b[0m\n",
      "\u001b[1;31mValueError\u001b[0m: x and y must have same first dimension, but have shapes (140,) and (135,)"
     ]
    },
    {
     "data": {
      "image/png": "[encoded data removed]",
      "text/plain": [
       "<Figure size 720x1080 with 2 Axes>"
      ]
     },
     "metadata": {
      "needs_background": "light"
     },
     "output_type": "display_data"
    }
   ],
   "source": [
    "# learning curves\n",
    "history_dict = history2.history\n",
    "history_dict.keys()\n",
    "\n",
    "# losses\n",
    "loss_values = history_dict['loss']\n",
    "val_loss_values = history_dict['val_loss']\n",
    "\n",
    "# accuracies\n",
    "acc_values = history_dict['binary_accuracy']\n",
    "val_acc_values = history_dict['val_binary_accuracy']\n",
    "\n",
    "epochs = range(140)\n",
    "\n",
    "fig, (ax1, ax2) = plt.subplots(2,1, figsize=(10,15))\n",
    "\n",
    "ax1.plot(epochs, loss_values, 'bo', label=\"Training Loss\")\n",
    "ax1.plot(epochs, val_loss_values, 'b', label=\"Validation Loss\")\n",
    "ax1.set_title('Training and Validation Loss')\n",
    "ax1.set_xlabel('Epochs')\n",
    "ax1.set_ylabel('Loss Value')\n",
    "ax1.legend()\n",
    "ax1.grid(True)\n",
    "\n",
    "ax2.plot(epochs, acc_values, 'ro', label=\"Training Accuracy\")\n",
    "ax2.plot(epochs, val_acc_values, 'r', label=\"Validation Accuracy\")\n",
    "ax2.set_title('Training and Validation Accuraccy')\n",
    "ax2.set_xlabel('Epochs')\n",
    "ax2.set_ylabel('Accuracy')\n",
    "ax2.legend()\n",
    "ax2.grid(True)\n",
    "\n",
    "plt.show()"
   ]
  },
  {
   "cell_type": "markdown",
   "metadata": {},
   "source": [
    "## Modelos - RandomForest (Ensemble learning)"
   ]
  },
  {
   "cell_type": "markdown",
   "metadata": {},
   "source": [
    "## Modelo 1"
   ]
  },
  {
   "cell_type": "code",
   "execution_count": 630,
   "metadata": {},
   "outputs": [],
   "source": [
    "clf = RandomForestClassifier(max_depth=20, random_state=0, n_estimators=100,\n",
    "                              min_samples_leaf = 2, min_samples_split = 5)\n",
    "clf.fit(X_train, y_train)\n",
    "y_hat = clf.predict(X_test)"
   ]
  },
  {
   "cell_type": "markdown",
   "metadata": {},
   "source": [
    "### Acurácia - Modelo 1"
   ]
  },
  {
   "cell_type": "code",
   "execution_count": 631,
   "metadata": {},
   "outputs": [
    {
     "name": "stdout",
     "output_type": "stream",
     "text": [
      "Accuracy of K-nearest neighbors classifier in the training set: 72.388%\n"
     ]
    }
   ],
   "source": [
    "acc = accuracy_score(y_hat,y_test)\n",
    "print('Accuracy of K-nearest neighbors classifier in the training set:',\"{:.3f}%\".format(acc*100))"
   ]
  },
  {
   "cell_type": "markdown",
   "metadata": {},
   "source": [
    "### Matriz de Confusão - Modelo 1"
   ]
  },
  {
   "cell_type": "code",
   "execution_count": 632,
   "metadata": {},
   "outputs": [
    {
     "name": "stderr",
     "output_type": "stream",
     "text": [
      "D:\\anaconda3\\lib\\site-packages\\sklearn\\utils\\deprecation.py:87: FutureWarning: Function plot_confusion_matrix is deprecated; Function `plot_confusion_matrix` is deprecated in 1.0 and will be removed in 1.2. Use one of the class methods: ConfusionMatrixDisplay.from_predictions or ConfusionMatrixDisplay.from_estimator.\n",
      "  warnings.warn(msg, category=FutureWarning)\n"
     ]
    },
    {
     "data": {
      "text/plain": [
       "Text(0.5, 1.0, 'Confusion matrix, without normalization')"
      ]
     },
     "execution_count": 632,
     "metadata": {},
     "output_type": "execute_result"
    },
    {
     "data": {
      "image/png": "[encoded data removed]",
      "text/plain": [
       "<Figure size 720x720 with 2 Axes>"
      ]
     },
     "metadata": {
      "needs_background": "light"
     },
     "output_type": "display_data"
    }
   ],
   "source": [
    "from sklearn.metrics import plot_confusion_matrix\n",
    "\n",
    "fig, ax = plt.subplots(figsize=(10, 10))\n",
    "disp = plot_confusion_matrix(clf,\n",
    "                                    X_test,\n",
    "                                    y_test,\n",
    "                                    cmap=plt.cm.Blues,\n",
    "                                    normalize=None,\n",
    "                                    ax=ax)\n",
    "disp.ax_.set_title('Confusion matrix, without normalization')"
   ]
  },
  {
   "cell_type": "markdown",
   "metadata": {},
   "source": [
    "## Modelo 2 - Ajuste de hiperparâmetro (max_depth=4, random_state=0)"
   ]
  },
  {
   "cell_type": "code",
   "execution_count": 633,
   "metadata": {},
   "outputs": [
    {
     "data": {
      "text/html": [
       "<style>#sk-container-id-17 {color: black;background-color: white;}#sk-container-id-17 pre{padding: 0;}#sk-container-id-17 div.sk-toggleable {background-color: white;}#sk-container-id-17 label.sk-toggleable__label {cursor: pointer;display: block;width: 100%;margin-bottom: 0;padding: 0.3em;box-sizing: border-box;text-align: center;}#sk-container-id-17 label.sk-toggleable__label-arrow:before {content: \"▸\";float: left;margin-right: 0.25em;color: #696969;}#sk-container-id-17 label.sk-toggleable__label-arrow:hover:before {color: black;}#sk-container-id-17 div.sk-estimator:hover label.sk-toggleable__label-arrow:before {color: black;}#sk-container-id-17 div.sk-toggleable__content {max-height: 0;max-width: 0;overflow: hidden;text-align: left;background-color: #f0f8ff;}#sk-container-id-17 div.sk-toggleable__content pre {margin: 0.2em;color: black;border-radius: 0.25em;background-color: #f0f8ff;}#sk-container-id-17 input.sk-toggleable__control:checked~div.sk-toggleable__content {max-height: 200px;max-width: 100%;overflow: auto;}#sk-container-id-17 input.sk-toggleable__control:checked~label.sk-toggleable__label-arrow:before {content: \"▾\";}#sk-container-id-17 div.sk-estimator input.sk-toggleable__control:checked~label.sk-toggleable__label {background-color: #d4ebff;}#sk-container-id-17 div.sk-label input.sk-toggleable__control:checked~label.sk-toggleable__label {background-color: #d4ebff;}#sk-container-id-17 input.sk-hidden--visually {border: 0;clip: rect(1px 1px 1px 1px);clip: rect(1px, 1px, 1px, 1px);height: 1px;margin: -1px;overflow: hidden;padding: 0;position: absolute;width: 1px;}#sk-container-id-17 div.sk-estimator {font-family: monospace;background-color: #f0f8ff;border: 1px dotted black;border-radius: 0.25em;box-sizing: border-box;margin-bottom: 0.5em;}#sk-container-id-17 div.sk-estimator:hover {background-color: #d4ebff;}#sk-container-id-17 div.sk-parallel-item::after {content: \"\";width: 100%;border-bottom: 1px solid gray;flex-grow: 1;}#sk-container-id-17 div.sk-label:hover label.sk-toggleable__label {background-color: #d4ebff;}#sk-container-id-17 div.sk-serial::before {content: \"\";position: absolute;border-left: 1px solid gray;box-sizing: border-box;top: 0;bottom: 0;left: 50%;z-index: 0;}#sk-container-id-17 div.sk-serial {display: flex;flex-direction: column;align-items: center;background-color: white;padding-right: 0.2em;padding-left: 0.2em;position: relative;}#sk-container-id-17 div.sk-item {position: relative;z-index: 1;}#sk-container-id-17 div.sk-parallel {display: flex;align-items: stretch;justify-content: center;background-color: white;position: relative;}#sk-container-id-17 div.sk-item::before, #sk-container-id-17 div.sk-parallel-item::before {content: \"\";position: absolute;border-left: 1px solid gray;box-sizing: border-box;top: 0;bottom: 0;left: 50%;z-index: -1;}#sk-container-id-17 div.sk-parallel-item {display: flex;flex-direction: column;z-index: 1;position: relative;background-color: white;}#sk-container-id-17 div.sk-parallel-item:first-child::after {align-self: flex-end;width: 50%;}#sk-container-id-17 div.sk-parallel-item:last-child::after {align-self: flex-start;width: 50%;}#sk-container-id-17 div.sk-parallel-item:only-child::after {width: 0;}#sk-container-id-17 div.sk-dashed-wrapped {border: 1px dashed gray;margin: 0 0.4em 0.5em 0.4em;box-sizing: border-box;padding-bottom: 0.4em;background-color: white;}#sk-container-id-17 div.sk-label label {font-family: monospace;font-weight: bold;display: inline-block;line-height: 1.2em;}#sk-container-id-17 div.sk-label-container {text-align: center;}#sk-container-id-17 div.sk-container {/* jupyter's `normalize.less` sets `[hidden] { display: none; }` but bootstrap.min.css set `[hidden] { display: none !important; }` so we also need the `!important` here to be able to override the default hidden behavior on the sphinx rendered scikit-learn.org. See: https://github.com/scikit-learn/scikit-learn/issues/21755 */display: inline-block !important;position: relative;}#sk-container-id-17 div.sk-text-repr-fallback {display: none;}</style><div id=\"sk-container-id-17\" class=\"sk-top-container\"><div class=\"sk-text-repr-fallback\"><pre>RandomForestClassifier(max_depth=50, min_samples_leaf=3, min_samples_split=8,\n",
       "                       n_estimators=200, random_state=0)</pre><b>In a Jupyter environment, please rerun this cell to show the HTML representation or trust the notebook. <br />On GitHub, the HTML representation is unable to render, please try loading this page with nbviewer.org.</b></div><div class=\"sk-container\" hidden><div class=\"sk-item\"><div class=\"sk-estimator sk-toggleable\"><input class=\"sk-toggleable__control sk-hidden--visually\" id=\"sk-estimator-id-17\" type=\"checkbox\" checked><label for=\"sk-estimator-id-17\" class=\"sk-toggleable__label sk-toggleable__label-arrow\">RandomForestClassifier</label><div class=\"sk-toggleable__content\"><pre>RandomForestClassifier(max_depth=50, min_samples_leaf=3, min_samples_split=8,\n",
       "                       n_estimators=200, random_state=0)</pre></div></div></div></div></div>"
      ],
      "text/plain": [
       "RandomForestClassifier(max_depth=50, min_samples_leaf=3, min_samples_split=8,\n",
       "                       n_estimators=200, random_state=0)"
      ]
     },
     "execution_count": 633,
     "metadata": {},
     "output_type": "execute_result"
    }
   ],
   "source": [
    "from sklearn.ensemble import RandomForestClassifier\n",
    "clf2 = RandomForestClassifier(max_depth=50, random_state=0, n_estimators=200,\n",
    "                              min_samples_leaf = 3, min_samples_split = 8)\n",
    "clf2.fit(X_train, y_train)"
   ]
  },
  {
   "cell_type": "markdown",
   "metadata": {},
   "source": [
    "### Acurácia - Modelo 2"
   ]
  },
  {
   "cell_type": "code",
   "execution_count": 634,
   "metadata": {},
   "outputs": [
    {
     "name": "stdout",
     "output_type": "stream",
     "text": [
      "Accuracy of K-nearest neighbors classifier in the training set: 72.180%\n"
     ]
    }
   ],
   "source": [
    "y_hat2 = clf2.predict(X_test)\n",
    "acc = accuracy_score(y_hat2,y_test)\n",
    "print('Accuracy of K-nearest neighbors classifier in the training set:',\"{:.3f}%\".format(acc*100))"
   ]
  },
  {
   "cell_type": "markdown",
   "metadata": {},
   "source": [
    "### Matriz de Confusão - Modelo 2"
   ]
  },
  {
   "cell_type": "code",
   "execution_count": 635,
   "metadata": {},
   "outputs": [
    {
     "name": "stderr",
     "output_type": "stream",
     "text": [
      "D:\\anaconda3\\lib\\site-packages\\sklearn\\utils\\deprecation.py:87: FutureWarning: Function plot_confusion_matrix is deprecated; Function `plot_confusion_matrix` is deprecated in 1.0 and will be removed in 1.2. Use one of the class methods: ConfusionMatrixDisplay.from_predictions or ConfusionMatrixDisplay.from_estimator.\n",
      "  warnings.warn(msg, category=FutureWarning)\n"
     ]
    },
    {
     "data": {
      "text/plain": [
       "Text(0.5, 1.0, 'Confusion matrix, without normalization')"
      ]
     },
     "execution_count": 635,
     "metadata": {},
     "output_type": "execute_result"
    },
    {
     "data": {
      "image/png": "[encoded data removed]",
      "text/plain": [
       "<Figure size 720x720 with 2 Axes>"
      ]
     },
     "metadata": {
      "needs_background": "light"
     },
     "output_type": "display_data"
    }
   ],
   "source": [
    "from sklearn.metrics import plot_confusion_matrix\n",
    "\n",
    "fig, ax = plt.subplots(figsize=(10, 10))\n",
    "disp = plot_confusion_matrix(clf2,\n",
    "                                    X_test,\n",
    "                                    y_test,\n",
    "                                    cmap=plt.cm.Blues,\n",
    "                                    normalize=None,\n",
    "                                    ax=ax)\n",
    "disp.ax_.set_title('Confusion matrix, without normalization')"
   ]
  },
  {
   "cell_type": "markdown",
   "metadata": {},
   "source": [
    "## Modelo 3 - Ajuste de hiperparâmetro (max_depth=16, random_state=2)"
   ]
  },
  {
   "cell_type": "code",
   "execution_count": 636,
   "metadata": {},
   "outputs": [
    {
     "data": {
      "text/html": [
       "<style>#sk-container-id-18 {color: black;background-color: white;}#sk-container-id-18 pre{padding: 0;}#sk-container-id-18 div.sk-toggleable {background-color: white;}#sk-container-id-18 label.sk-toggleable__label {cursor: pointer;display: block;width: 100%;margin-bottom: 0;padding: 0.3em;box-sizing: border-box;text-align: center;}#sk-container-id-18 label.sk-toggleable__label-arrow:before {content: \"▸\";float: left;margin-right: 0.25em;color: #696969;}#sk-container-id-18 label.sk-toggleable__label-arrow:hover:before {color: black;}#sk-container-id-18 div.sk-estimator:hover label.sk-toggleable__label-arrow:before {color: black;}#sk-container-id-18 div.sk-toggleable__content {max-height: 0;max-width: 0;overflow: hidden;text-align: left;background-color: #f0f8ff;}#sk-container-id-18 div.sk-toggleable__content pre {margin: 0.2em;color: black;border-radius: 0.25em;background-color: #f0f8ff;}#sk-container-id-18 input.sk-toggleable__control:checked~div.sk-toggleable__content {max-height: 200px;max-width: 100%;overflow: auto;}#sk-container-id-18 input.sk-toggleable__control:checked~label.sk-toggleable__label-arrow:before {content: \"▾\";}#sk-container-id-18 div.sk-estimator input.sk-toggleable__control:checked~label.sk-toggleable__label {background-color: #d4ebff;}#sk-container-id-18 div.sk-label input.sk-toggleable__control:checked~label.sk-toggleable__label {background-color: #d4ebff;}#sk-container-id-18 input.sk-hidden--visually {border: 0;clip: rect(1px 1px 1px 1px);clip: rect(1px, 1px, 1px, 1px);height: 1px;margin: -1px;overflow: hidden;padding: 0;position: absolute;width: 1px;}#sk-container-id-18 div.sk-estimator {font-family: monospace;background-color: #f0f8ff;border: 1px dotted black;border-radius: 0.25em;box-sizing: border-box;margin-bottom: 0.5em;}#sk-container-id-18 div.sk-estimator:hover {background-color: #d4ebff;}#sk-container-id-18 div.sk-parallel-item::after {content: \"\";width: 100%;border-bottom: 1px solid gray;flex-grow: 1;}#sk-container-id-18 div.sk-label:hover label.sk-toggleable__label {background-color: #d4ebff;}#sk-container-id-18 div.sk-serial::before {content: \"\";position: absolute;border-left: 1px solid gray;box-sizing: border-box;top: 0;bottom: 0;left: 50%;z-index: 0;}#sk-container-id-18 div.sk-serial {display: flex;flex-direction: column;align-items: center;background-color: white;padding-right: 0.2em;padding-left: 0.2em;position: relative;}#sk-container-id-18 div.sk-item {position: relative;z-index: 1;}#sk-container-id-18 div.sk-parallel {display: flex;align-items: stretch;justify-content: center;background-color: white;position: relative;}#sk-container-id-18 div.sk-item::before, #sk-container-id-18 div.sk-parallel-item::before {content: \"\";position: absolute;border-left: 1px solid gray;box-sizing: border-box;top: 0;bottom: 0;left: 50%;z-index: -1;}#sk-container-id-18 div.sk-parallel-item {display: flex;flex-direction: column;z-index: 1;position: relative;background-color: white;}#sk-container-id-18 div.sk-parallel-item:first-child::after {align-self: flex-end;width: 50%;}#sk-container-id-18 div.sk-parallel-item:last-child::after {align-self: flex-start;width: 50%;}#sk-container-id-18 div.sk-parallel-item:only-child::after {width: 0;}#sk-container-id-18 div.sk-dashed-wrapped {border: 1px dashed gray;margin: 0 0.4em 0.5em 0.4em;box-sizing: border-box;padding-bottom: 0.4em;background-color: white;}#sk-container-id-18 div.sk-label label {font-family: monospace;font-weight: bold;display: inline-block;line-height: 1.2em;}#sk-container-id-18 div.sk-label-container {text-align: center;}#sk-container-id-18 div.sk-container {/* jupyter's `normalize.less` sets `[hidden] { display: none; }` but bootstrap.min.css set `[hidden] { display: none !important; }` so we also need the `!important` here to be able to override the default hidden behavior on the sphinx rendered scikit-learn.org. See: https://github.com/scikit-learn/scikit-learn/issues/21755 */display: inline-block !important;position: relative;}#sk-container-id-18 div.sk-text-repr-fallback {display: none;}</style><div id=\"sk-container-id-18\" class=\"sk-top-container\"><div class=\"sk-text-repr-fallback\"><pre>RandomForestClassifier(max_depth=80, min_samples_leaf=4, min_samples_split=10,\n",
       "                       n_estimators=400, random_state=0)</pre><b>In a Jupyter environment, please rerun this cell to show the HTML representation or trust the notebook. <br />On GitHub, the HTML representation is unable to render, please try loading this page with nbviewer.org.</b></div><div class=\"sk-container\" hidden><div class=\"sk-item\"><div class=\"sk-estimator sk-toggleable\"><input class=\"sk-toggleable__control sk-hidden--visually\" id=\"sk-estimator-id-18\" type=\"checkbox\" checked><label for=\"sk-estimator-id-18\" class=\"sk-toggleable__label sk-toggleable__label-arrow\">RandomForestClassifier</label><div class=\"sk-toggleable__content\"><pre>RandomForestClassifier(max_depth=80, min_samples_leaf=4, min_samples_split=10,\n",
       "                       n_estimators=400, random_state=0)</pre></div></div></div></div></div>"
      ],
      "text/plain": [
       "RandomForestClassifier(max_depth=80, min_samples_leaf=4, min_samples_split=10,\n",
       "                       n_estimators=400, random_state=0)"
      ]
     },
     "execution_count": 636,
     "metadata": {},
     "output_type": "execute_result"
    }
   ],
   "source": [
    "clf4 = RandomForestClassifier(max_depth=80, random_state=0, n_estimators=400, \n",
    "                              min_samples_leaf = 4, min_samples_split = 10)\n",
    "clf4.fit(X_train, y_train)"
   ]
  },
  {
   "cell_type": "markdown",
   "metadata": {},
   "source": [
    "### Acurácia - Modelo 3"
   ]
  },
  {
   "cell_type": "code",
   "execution_count": 637,
   "metadata": {},
   "outputs": [
    {
     "name": "stdout",
     "output_type": "stream",
     "text": [
      "Accuracy of K-nearest neighbors classifier in the training set: 72.269%\n"
     ]
    }
   ],
   "source": [
    "y_hat4 = clf4.predict(X_test)\n",
    "acc = accuracy_score(y_hat4,y_test)\n",
    "print('Accuracy of K-nearest neighbors classifier in the training set:',\"{:.3f}%\".format(acc*100))"
   ]
  },
  {
   "cell_type": "markdown",
   "metadata": {},
   "source": [
    "### Matriz de Confusão - Modelo 3"
   ]
  },
  {
   "cell_type": "code",
   "execution_count": 638,
   "metadata": {},
   "outputs": [
    {
     "name": "stderr",
     "output_type": "stream",
     "text": [
      "D:\\anaconda3\\lib\\site-packages\\sklearn\\utils\\deprecation.py:87: FutureWarning: Function plot_confusion_matrix is deprecated; Function `plot_confusion_matrix` is deprecated in 1.0 and will be removed in 1.2. Use one of the class methods: ConfusionMatrixDisplay.from_predictions or ConfusionMatrixDisplay.from_estimator.\n",
      "  warnings.warn(msg, category=FutureWarning)\n"
     ]
    },
    {
     "data": {
      "text/plain": [
       "Text(0.5, 1.0, 'Confusion matrix, without normalization')"
      ]
     },
     "execution_count": 638,
     "metadata": {},
     "output_type": "execute_result"
    },
    {
     "data": {
      "image/png": "[encoded data removed]",
      "text/plain": [
       "<Figure size 720x720 with 2 Axes>"
      ]
     },
     "metadata": {
      "needs_background": "light"
     },
     "output_type": "display_data"
    }
   ],
   "source": [
    "from sklearn.metrics import plot_confusion_matrix\n",
    "\n",
    "#cn = X_test.columns\n",
    "\n",
    "fig, ax = plt.subplots(figsize=(10, 10))\n",
    "disp = plot_confusion_matrix(clf4,\n",
    "                                    X_test,\n",
    "                                    y_test,\n",
    "                                    #display_labels=cn,\n",
    "                                    cmap=plt.cm.Blues,\n",
    "                                    normalize=None,\n",
    "                                    ax=ax)\n",
    "disp.ax_.set_title('Confusion matrix, without normalization')"
   ]
  },
  {
   "cell_type": "code",
   "execution_count": 639,
   "metadata": {},
   "outputs": [
    {
     "name": "stdout",
     "output_type": "stream",
     "text": [
      "42674\n",
      "59133\n"
     ]
    }
   ],
   "source": [
    "print(len(X_train))\n",
    "print(len(X_test))"
   ]
  },
  {
   "cell_type": "code",
   "execution_count": 640,
   "metadata": {},
   "outputs": [
    {
     "name": "stdout",
     "output_type": "stream",
     "text": [
      "8535\n",
      "34139\n",
      "59133\n"
     ]
    }
   ],
   "source": [
    "print(len(validation))\n",
    "print(len(training))\n",
    "print(len(X_test))"
   ]
  },
  {
   "cell_type": "code",
   "execution_count": null,
   "metadata": {},
   "outputs": [],
   "source": []
  }
 ],
 "metadata": {
  "kernelspec": {
   "display_name": "Python 3",
   "language": "python",
   "name": "python3"
  },
  "language_info": {
   "codemirror_mode": {
    "name": "ipython",
    "version": 3
   },
   "file_extension": ".py",
   "mimetype": "text/x-python",
   "name": "python",
   "nbconvert_exporter": "python",
   "pygments_lexer": "ipython3",
   "version": "3.8.5"
  }
 },
 "nbformat": 4,
 "nbformat_minor": 4
}
